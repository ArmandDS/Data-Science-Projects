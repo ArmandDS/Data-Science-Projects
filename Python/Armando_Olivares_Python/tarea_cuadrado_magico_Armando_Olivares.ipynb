{
 "cells": [
  {
   "cell_type": "markdown",
   "metadata": {},
   "source": [
    "# Ejercicios Numpy\n"
   ]
  },
  {
   "cell_type": "markdown",
   "metadata": {},
   "source": [
    "Un cuadrado mágico es una matriz cuadrada de números enteros en la que se cumple que la suma de los números en cada fila, en cada columna y en ambas diagonales da siempre el mismo valor, denominado constante mágica. \n",
    " \n",
    "El objetivo de este ejercicio, es crear una función, basada en las funcionalidades que nos da el módulo NumPy de Python, que permita detectar si un fichero de texto tiene como contenido un cuadrado mágico o no. La función deberá tener la siguiente cabecera. \n",
    " def es_cuadrado_magico(ruta): "
   ]
  },
  {
   "cell_type": "code",
   "execution_count": 62,
   "metadata": {},
   "outputs": [
    {
     "name": "stdout",
     "output_type": "stream",
     "text": [
      "Ha ocurrido un error, asegurese que todos los parametros del archivo sean correctos\n"
     ]
    }
   ],
   "source": [
    "import numpy as np\n",
    "\n",
    "def es_cuadrado_magico(ruta, delimitador= ','):\n",
    "    try:\n",
    "        matrix_cuadrada = np.loadtxt(ruta, delimiter=delimitador)\n",
    "        x, y = matrix_cuadrada.shape\n",
    "        columnas = np.sum(matrix_cuadrada, axis=0) \n",
    "        filas = np.sum(matrix_cuadrada, axis=1)\n",
    "        diagonal = np.sum(np.trace(matrix_cuadrada))\n",
    "        diagonal_opuesta = np.sum(np.diag(np.fliplr(matrix_cuadrada)))\n",
    "        if x !=y:\n",
    "            return(\"No es un cuadrado mágico: No es una Matrix Cuadrada\")\n",
    "        elif (not (np.apply_along_axis( lambda x: True if ((x%1)==0).all()  else False, axis=0, arr=matrix_cuadrada )).all()):\n",
    "            return (\"No es un cuadrado mágico: No todos sus elementos son enteros\")\n",
    "        elif (columnas == columnas[::-1]).all() \\\n",
    "                and((filas == filas[::-1]).all() \\\n",
    "                    and (diagonal in filas, filas))\\\n",
    "                    and (diagonal_opuesta == diagonal):\n",
    "            return ( \"Es un cuadrado mágico de constante: \" + str(diagonal))\n",
    "        else:\n",
    "            return(\"No es un cuadrado mágico: la filas, columnas y Diagonales no coinciden\")\n",
    "    except IOError as e:\n",
    "        print(\"'Debe introducir Archivo Válido'\")\n",
    "    except:\n",
    "            print('Ha ocurrido un error, asegurese que todos los parametros del archivo sean correctos')\n",
    "\n",
    "## llamdada a la Funcion\n",
    "es_cuadrado_magico(\"matrix2.txt\", \",\")\n",
    "    "
   ]
  },
  {
   "cell_type": "markdown",
   "metadata": {},
   "source": [
    "#### Esta función tiene como paramtero  la ruta y un parametro opcional que indica el  separador de la matriz; primero obtiene las dimensiones de la matriz, si son distintinas no es un cuadrado mágico, luego para comprobar si es un entero calulao el modulo de con 1 de todos los elementos si el resultado es distinto a 0 (cero entero) no es un cuadrado mágico, luego sumas columna a columna y fila a fila y las diagonales y hace las comparaciones si alguna difiere no es un cuadrado magico.\n",
    "#### Por último para manejar los errores se utiliza  IOError para capturar errores en de archivos que no existan (el nombre sea incorrecto o la ruta ) y también se capturan todos los posibles errores"
   ]
  }
 ],
 "metadata": {
  "kernelspec": {
   "display_name": "Python 3",
   "language": "python",
   "name": "python3"
  },
  "language_info": {
   "codemirror_mode": {
    "name": "ipython",
    "version": 3
   },
   "file_extension": ".py",
   "mimetype": "text/x-python",
   "name": "python",
   "nbconvert_exporter": "python",
   "pygments_lexer": "ipython3",
   "version": "3.6.1"
  }
 },
 "nbformat": 4,
 "nbformat_minor": 2
}
