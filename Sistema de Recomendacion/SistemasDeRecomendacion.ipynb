{
 "cells": [
  {
   "cell_type": "markdown",
   "metadata": {},
   "source": [
    "# Sistemas de Recomendación"
   ]
  },
  {
   "cell_type": "markdown",
   "metadata": {},
   "source": [
    "## Carga de Librerias"
   ]
  },
  {
   "cell_type": "code",
   "execution_count": null,
   "metadata": {
    "collapsed": true
   },
   "outputs": [],
   "source": [
    "import numpy as np\n",
    "import pandas as pd\n",
    "import scipy\n",
    "import sys\n",
    "import re\n",
    "#nltk.download()\n",
    "import nltk\n",
    "import string\n",
    "from sklearn.feature_extraction.text import CountVectorizer, TfidfTransformer\n",
    "\n",
    "sys.path.append(\"C:/Users/Carlos Galve/Desktop/SistemasDeRecomendacion/Utilities\")\n",
    "import Utilities "
   ]
  },
  {
   "cell_type": "markdown",
   "metadata": {},
   "source": [
    "## Lectura DataSet de Juguetes (usar encoding='iso-8859-1')"
   ]
  },
  {
   "cell_type": "code",
   "execution_count": null,
   "metadata": {
    "collapsed": true
   },
   "outputs": [],
   "source": []
  },
  {
   "cell_type": "markdown",
   "metadata": {},
   "source": [
    "## Breve Análsis descriptivo"
   ]
  },
  {
   "cell_type": "code",
   "execution_count": null,
   "metadata": {
    "collapsed": true
   },
   "outputs": [],
   "source": []
  },
  {
   "cell_type": "code",
   "execution_count": null,
   "metadata": {
    "collapsed": true,
    "scrolled": true
   },
   "outputs": [],
   "source": [
    "print (' Listado de variables contenidas en el set de datos:')\n",
    "\n",
    "\n",
    "print ('\\n\\n Número de observaciones y variables:')\n",
    "\n",
    "\n",
    "print ('\\n\\n Tipos de las variables:')\n",
    "\n",
    "\n",
    "print ('\\n\\n Listado de variables contenidas en el set de datos, con sus tipos y número de valores no nulos:')\n",
    "\n",
    "print ('\\n\\n Número missing values')\n",
    "\n",
    "\n",
    "print ('\\n\\n Porcentaje missing values')\n"
   ]
  },
  {
   "cell_type": "markdown",
   "metadata": {},
   "source": [
    "##### Conclusiones\n",
    "- Hay 5 columnas de tipo string\n",
    "- Se tiene un dataset de 5597x5\n",
    "- No hay missing values"
   ]
  },
  {
   "cell_type": "markdown",
   "metadata": {},
   "source": [
    "## Listado de opciones para recomendar (Listado juguetes)"
   ]
  },
  {
   "cell_type": "code",
   "execution_count": null,
   "metadata": {
    "collapsed": true
   },
   "outputs": [],
   "source": []
  },
  {
   "cell_type": "markdown",
   "metadata": {},
   "source": [
    "## Cálculo vectores descriptivos de Items"
   ]
  },
  {
   "cell_type": "markdown",
   "metadata": {},
   "source": [
    "##### Limpieza de datos"
   ]
  },
  {
   "cell_type": "code",
   "execution_count": null,
   "metadata": {
    "collapsed": true
   },
   "outputs": [],
   "source": [
    "#Tokenization\n"
   ]
  },
  {
   "cell_type": "code",
   "execution_count": null,
   "metadata": {
    "collapsed": true
   },
   "outputs": [],
   "source": [
    "# Eliminar palabras con ausencia de significaddo (remover stopwords)\n"
   ]
  },
  {
   "cell_type": "code",
   "execution_count": null,
   "metadata": {
    "collapsed": true
   },
   "outputs": [],
   "source": [
    "# Eliminar signos de puntuación (remover signos de puntuacion)\n"
   ]
  },
  {
   "cell_type": "code",
   "execution_count": null,
   "metadata": {
    "collapsed": true
   },
   "outputs": [],
   "source": [
    "# Union descripciones (pasar de array a string)\n"
   ]
  },
  {
   "cell_type": "markdown",
   "metadata": {},
   "source": [
    "##### Cálculo Matriz Frecuencias (CountVectorizer(), usar encoding='iso-8859-1')"
   ]
  },
  {
   "cell_type": "code",
   "execution_count": null,
   "metadata": {
    "collapsed": true
   },
   "outputs": [],
   "source": []
  },
  {
   "cell_type": "markdown",
   "metadata": {},
   "source": [
    "##### Visualización Matriz Frecuencias"
   ]
  },
  {
   "cell_type": "code",
   "execution_count": null,
   "metadata": {
    "collapsed": true,
    "scrolled": true
   },
   "outputs": [],
   "source": []
  },
  {
   "cell_type": "markdown",
   "metadata": {},
   "source": [
    "##### Porcentaje de Ceros del total de elementos de la Matriz Frecuencias"
   ]
  },
  {
   "cell_type": "code",
   "execution_count": null,
   "metadata": {
    "collapsed": true
   },
   "outputs": [],
   "source": []
  },
  {
   "cell_type": "markdown",
   "metadata": {},
   "source": [
    "##### Número de Ceros en cada fila"
   ]
  },
  {
   "cell_type": "code",
   "execution_count": null,
   "metadata": {
    "collapsed": true
   },
   "outputs": [],
   "source": []
  },
  {
   "cell_type": "markdown",
   "metadata": {},
   "source": [
    "##### Número de Ceros en cada columna"
   ]
  },
  {
   "cell_type": "code",
   "execution_count": null,
   "metadata": {
    "collapsed": true
   },
   "outputs": [],
   "source": []
  },
  {
   "cell_type": "markdown",
   "metadata": {},
   "source": [
    "##### Ejemplo de los valores diferentes de cero"
   ]
  },
  {
   "cell_type": "code",
   "execution_count": null,
   "metadata": {
    "collapsed": true,
    "scrolled": true
   },
   "outputs": [],
   "source": []
  },
  {
   "cell_type": "markdown",
   "metadata": {},
   "source": [
    "##### Término frecuencia inversa de documento"
   ]
  },
  {
   "cell_type": "markdown",
   "metadata": {},
   "source": [
    "Los valores por defecto del TfidfTransformer son:\n",
    "<br>\n",
    "<br>\n",
    "$$TfidfTransformer(norm=\\hspace{0,2mm}'l2', \\hspace{1mm} use\\_idf=True, \\hspace{1mm} smooth\\_idf=True, \\hspace{1mm} sublinear\\_tf=False)$$\n",
    "\n",
    "<br>\n",
    "donde:\n",
    "\n",
    "<br>\n",
    "<ul>\n",
    "    <li> $norm=\\hspace{0,2mm}'l2'$ --> normalizar por norma euclídea \n",
    "    $$v_{norm} = \\frac{v}{||v||_{_2}} = \\frac{v}{\\sqrt{v_{1}^2 + v_{2}^2 + ... + v_{n}^2}}$$\n",
    "    </li>\n",
    "\n",
    "    <br>\n",
    "    <br>\n",
    "\n",
    "\n",
    "    <li> $use\\_idf=True$ --> usa el termino de frecuencia inversa de documento </li>\n",
    "    \n",
    "    <br>\n",
    "    <br>\n",
    "    \n",
    "    <li> $smooth\\_idf=True$ --> Para evitar divisiones entre 0 en el termino de frecuencia inversa de documento\n",
    "    \n",
    "        $$idf (t) = \\log{\\frac{1 + n_d}{1 + df (d, t)}} + 1$$\n",
    "        \n",
    "    <ul>\n",
    "    <li>\n",
    "    donde:\n",
    "    <ul>\n",
    "    <li>$n_d = número \\hspace{1mm} total \\hspace{1mm} de \\hspace{1mm} documentos$</li>\n",
    "    <li>$df (d, t) = número \\hspace{1mm} de \\hspace{1mm} documentos \\hspace{1mm} que \\hspace{1mm} contienen \\hspace{1mm} el \\hspace{1mm} término \\hspace{1mm} t$</li>\n",
    "    </ul>\n",
    "    </li>\n",
    "    \n",
    "    </ul>\n",
    "    </li>      \n",
    "    \n",
    "    <br>\n",
    "    <br>\n",
    "    \n",
    "    <li> $sublinear\\_tf=False$ --> No aplica sublinear tf scaling, es decir, no reemplaza $tf$ con $1 + log(tf)$.</li>\n",
    "\n",
    "</ul>"
   ]
  },
  {
   "cell_type": "markdown",
   "metadata": {},
   "source": [
    "##### Cálculo término frecuencia inversa de documento (TfidfTransformer())"
   ]
  },
  {
   "cell_type": "code",
   "execution_count": null,
   "metadata": {
    "collapsed": true
   },
   "outputs": [],
   "source": []
  },
  {
   "cell_type": "markdown",
   "metadata": {},
   "source": [
    "##### Visualizacion Matriz con términos frecuencia inversa de documento y normalizada"
   ]
  },
  {
   "cell_type": "code",
   "execution_count": null,
   "metadata": {
    "collapsed": true
   },
   "outputs": [],
   "source": []
  },
  {
   "cell_type": "markdown",
   "metadata": {},
   "source": [
    "##### Ejemplo de los valores diferentes de cero"
   ]
  },
  {
   "cell_type": "code",
   "execution_count": null,
   "metadata": {
    "collapsed": true,
    "scrolled": true
   },
   "outputs": [],
   "source": []
  },
  {
   "cell_type": "markdown",
   "metadata": {},
   "source": [
    "## Sistema Recomendación por Similitud entre items"
   ]
  },
  {
   "cell_type": "markdown",
   "metadata": {},
   "source": [
    "Para cada objeto se calculan las similitud con el resto de objetos.\n",
    "\n",
    "<br>\n",
    "<br>\n",
    "\n",
    "$$Similitud_{item} (x_1, x_2) = cos (\\theta) = \\frac {v_{x_1} \\cdot v_{x_2}}{||v_{x_1}|| \\cdot ||v_{x_2}||} = \\frac {\\sum_{i=1}^N (v_{x_1} * v_{x_2})}{\\sum_{i=1}^N(v_{x_1,i}^2) * \\sum_{i=1}^N(v_{x_2,i}^2)}$$\n",
    "\n",
    "<br>\n",
    "\n",
    "Para cada objeto se recomiendan los objetos con similitud más elevada.\n",
    "\n",
    "<br>"
   ]
  },
  {
   "cell_type": "markdown",
   "metadata": {},
   "source": [
    "##### Cálculo matriz similitudes"
   ]
  },
  {
   "cell_type": "code",
   "execution_count": null,
   "metadata": {
    "collapsed": true
   },
   "outputs": [],
   "source": []
  },
  {
   "cell_type": "markdown",
   "metadata": {},
   "source": [
    "##### Validación de que la matriz anterior estaba normalizada (ver diagonal)"
   ]
  },
  {
   "cell_type": "code",
   "execution_count": null,
   "metadata": {
    "collapsed": true
   },
   "outputs": [],
   "source": []
  },
  {
   "cell_type": "markdown",
   "metadata": {},
   "source": [
    "##### Visualizacion Matriz Similitudes"
   ]
  },
  {
   "cell_type": "code",
   "execution_count": null,
   "metadata": {
    "collapsed": true
   },
   "outputs": [],
   "source": []
  },
  {
   "cell_type": "markdown",
   "metadata": {},
   "source": [
    "##### Ejemplo Recomendación por Similitud entre items"
   ]
  },
  {
   "cell_type": "code",
   "execution_count": null,
   "metadata": {
    "collapsed": true
   },
   "outputs": [],
   "source": []
  },
  {
   "cell_type": "markdown",
   "metadata": {},
   "source": [
    "## Sistema Recomendación Filtrado Colaborativo Item-Item"
   ]
  },
  {
   "cell_type": "markdown",
   "metadata": {},
   "source": [
    "Para cada usuario se propagan las valoraciones de cada objeto al resto mediante la métrica de similaridad entre los objetos\n",
    "\n",
    "$$Score(u,x_i) = \\sum\\limits_{\\substack{j=1 \\\\ j \\neq i, \\hspace{1mm} j \\hspace{0.5mm} \\epsilon \\hspace{0.5mm} J}}^n w(rank_u(x_j)) * similitud_{item}(x_j, x_i)$$\n",
    "\n",
    "Donde:\n",
    "<ul>\n",
    "    <li>$J$ es el conjunto de objetos valorados por el usuario $u$</li>\n",
    "    <br>\n",
    "    <li>$rank_u(x_j)$ es la valoración del usuario $u$ al objeto $x_j$</li>\n",
    "    <br>\n",
    "    <li>$w:[0-10] \\to \\mathbb{R}$ es una función que asigna a cada valoración un valor real</li>\n",
    "</ul>"
   ]
  },
  {
   "cell_type": "markdown",
   "metadata": {},
   "source": [
    "##### Simulación valoracion individual de un usuario"
   ]
  },
  {
   "cell_type": "code",
   "execution_count": null,
   "metadata": {
    "collapsed": true,
    "scrolled": true
   },
   "outputs": [],
   "source": []
  },
  {
   "cell_type": "markdown",
   "metadata": {},
   "source": [
    "##### Ejemplo Recomendación de 10 juguetes por Filtrado Colaborativo Item-Item"
   ]
  },
  {
   "cell_type": "code",
   "execution_count": null,
   "metadata": {
    "collapsed": true,
    "scrolled": true
   },
   "outputs": [],
   "source": []
  },
  {
   "cell_type": "markdown",
   "metadata": {},
   "source": [
    "## Sistema Recomendación Filtrado Colaborativo User-User"
   ]
  },
  {
   "cell_type": "markdown",
   "metadata": {},
   "source": [
    "Permite estimar valoraciones de objetos que hayan valorado otros usuarios que tengan valoraciones en común con el usuario objetivo.\n",
    "\n",
    "$$R(u_a, x) = \\frac{\\sum_{u_k \\epsilon R_x} (z_{u_k, x} * similitud(u_a, u_k))}{\\sum_{u_k \\epsilon R_x} |similitud(u_a, u_k)|} * \\sigma_a + \\mu_a$$\n",
    "\n",
    "$$similitud(u_a, u_k) = \\frac{\\sum_{i \\epsilon L_{a,k}} (\\upsilon_{k,i} - \\mu_k)(\\upsilon_{a,i} - \\mu_a)}{\\sqrt{\\sum_{i \\epsilon L_{a,k}} (\\upsilon_{k,i} - \\mu_k)^2} \\sqrt{\\sum_{i \\epsilon L_{a,k}} (\\upsilon_{a,i} - \\mu_a)^2}}$$\n",
    "\n",
    "$$z_{u_k, x} = \\frac{\\upsilon_{k, x} - \\mu_k}{\\sigma_k}$$\n",
    "\n",
    "Donde:\n",
    "<ul>\n",
    "    <li>$u_a$ denota al usuario $a$</li>\n",
    "    <li>$u_k$ denota al usuario $k$</li>\n",
    "    <li>$x$ denota el objeto $x$ a valorar</li>\n",
    "    <li>$R_x$ es el conjunto de usuarios que han valorado el objeto $x$</li>\n",
    "    <li>$z_{u_k, x}$ es la normalización de la valoración del usuario $k$ sobre el objeto $x$</li>\n",
    "    <li>$\\sigma_a$ denota la desviación típica de las valoraciones del usuario $a$</li>\n",
    "    <li>$\\mu_a$ denota la media aritmética de las valoraciones del usuario $a$</li>\n",
    "    <li>$\\mu_k$ denota la media aritmética de las valoraciones del usuario $k$</li>\n",
    "    <li>$L_{a,k}$ es el listado de objetos que han valorado tanto el usuario $a$ como el usuario $k$</li>\n",
    "    <li>$\\upsilon_{k,i}$ es la valoración media realizada por el usuario $k$ sobre el objeto $i$</li>\n",
    "    <li>$\\upsilon_{a,i}$ es la valoración media realizada por el usuario $a$ sobre el objeto $i$</li>    \n",
    "</ul>"
   ]
  },
  {
   "cell_type": "markdown",
   "metadata": {},
   "source": [
    "##### Lectura csv con valoraciones de 4 usuarios"
   ]
  },
  {
   "cell_type": "code",
   "execution_count": null,
   "metadata": {
    "collapsed": true
   },
   "outputs": [],
   "source": []
  },
  {
   "cell_type": "markdown",
   "metadata": {},
   "source": [
    "##### Ejemplo valoraciones user1"
   ]
  },
  {
   "cell_type": "code",
   "execution_count": null,
   "metadata": {
    "collapsed": true
   },
   "outputs": [],
   "source": []
  },
  {
   "cell_type": "markdown",
   "metadata": {},
   "source": [
    "##### Cálculo valoraciones normalizadas "
   ]
  },
  {
   "cell_type": "code",
   "execution_count": null,
   "metadata": {
    "collapsed": true,
    "scrolled": true
   },
   "outputs": [],
   "source": []
  },
  {
   "cell_type": "markdown",
   "metadata": {},
   "source": [
    "##### Cálculo Similitud entre usuarios"
   ]
  },
  {
   "cell_type": "code",
   "execution_count": null,
   "metadata": {
    "collapsed": true,
    "scrolled": false
   },
   "outputs": [],
   "source": []
  },
  {
   "cell_type": "markdown",
   "metadata": {},
   "source": [
    "##### Cálculo Scores Recomendación"
   ]
  },
  {
   "cell_type": "code",
   "execution_count": null,
   "metadata": {
    "collapsed": true
   },
   "outputs": [],
   "source": []
  },
  {
   "cell_type": "markdown",
   "metadata": {},
   "source": [
    "##### Ejemplo Recomendación juguetes por Filtrado Colaborativo User-User"
   ]
  },
  {
   "cell_type": "code",
   "execution_count": null,
   "metadata": {
    "collapsed": true
   },
   "outputs": [],
   "source": []
  }
 ],
 "metadata": {
  "kernelspec": {
   "display_name": "Python 3",
   "language": "python",
   "name": "python3"
  },
  "language_info": {
   "codemirror_mode": {
    "name": "ipython",
    "version": 3
   },
   "file_extension": ".py",
   "mimetype": "text/x-python",
   "name": "python",
   "nbconvert_exporter": "python",
   "pygments_lexer": "ipython3",
   "version": "3.6.3"
  }
 },
 "nbformat": 4,
 "nbformat_minor": 2
}
