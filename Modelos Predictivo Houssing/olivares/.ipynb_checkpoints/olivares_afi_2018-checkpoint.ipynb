{
 "cells": [
  {
   "cell_type": "markdown",
   "metadata": {},
   "source": [
    "# The California housing problem\n",
    "\n",
    "The goal is to predict the median house value on a series of California districts.\n",
    "\n",
    "Read info on the problem and download csv file from https://www.kaggle.com/camnugent/california-housing-prices.\n",
    "\n",
    "### Instrucciones de entrega\n",
    "\n",
    "#### Seguid cuidadosamente las siguientes pautas\n",
    "\n",
    "1. Crear un directorio de nombre vuestro apellido.\n",
    "2. Situar en él \n",
    "    * Un archivo `apellido_afi_2018.ipynb` con vuestro notebook completo y otro archivo `apellido_afi_2018.html` con una versión html\n",
    "    * Un archivo `cal_housing.csv` con los datos del problema.\n",
    "    * Un archivo `'mlp_alpha_search_results.pkl` con los resultados de GridSearchCV para vuestro MLP.\n",
    "    * Un archivo `'svr_C_gamma_epsilon_cv_search_results.pkl` con los resultados de GridSearchCV para vuestra SVR.\n",
    "3. Situar también en él un archivo word `apellido.docx`  o pdf `apellido.pdf` con las respuestas al cuestionario.\n",
    "4. Comprimir el **directorio** a un archivo `apellido.zip` o `apellido.7z` que será lo que se entregue\n",
    "\n",
    "Para cualquier duda,consultar con el profesor (jose.dorronsoro@uam.es) "
   ]
  },
  {
   "cell_type": "code",
   "execution_count": 1,
   "metadata": {
    "collapsed": true
   },
   "outputs": [],
   "source": [
    "%matplotlib inline\n",
    "%load_ext autoreload\n",
    "%autoreload 2"
   ]
  },
  {
   "cell_type": "code",
   "execution_count": 2,
   "metadata": {
    "collapsed": true
   },
   "outputs": [],
   "source": [
    "#put all your imports here\n",
    "import numpy as np\n",
    "import matplotlib.pyplot as plt\n",
    "import pandas as pd\n",
    "import os\n",
    "import sys\n",
    "import time\n",
    "import pickle\n",
    "import gzip\n",
    "#import seaborn as sns"
   ]
  },
  {
   "cell_type": "markdown",
   "metadata": {},
   "source": [
    "## Data Preprocessing\n",
    "\n",
    "**_After loading data apply the following steps_**\n",
    "\n",
    "* Check data counts and remove possible missing values using Pandas' `dropna` method.\n",
    "* Ignore the longitude and latitude variables and also the categorical variable `ocean_proximity`.\n",
    "* Analyze the original variables and consider new variables which could be more informative.\n",
    "* Analyze feature distributions and adequately remove possible outliers."
   ]
  },
  {
   "cell_type": "code",
   "execution_count": 3,
   "metadata": {},
   "outputs": [
    {
     "name": "stdout",
     "output_type": "stream",
     "text": [
      "n_rows: 20640\tn_columns: 10\n",
      "\n",
      "columns:\t ['longitude', 'latitude', 'housing_median_age', 'total_rooms', 'total_bedrooms', 'population', 'households', 'median_income', 'median_house_value', 'ocean_proximity']\n"
     ]
    }
   ],
   "source": [
    "f = 'cal_housing.csv'\n",
    "\n",
    "df_housing_raw = pd.read_csv(f)\n",
    "\n",
    "print (\"n_rows: %d\\tn_columns: %d\\n\" % (df_housing_raw.shape[0], df_housing_raw.shape[1]) )\n",
    "print (\"columns:\\t\", list(df_housing_raw.columns))"
   ]
  },
  {
   "cell_type": "markdown",
   "metadata": {},
   "source": [
    "** The Exploratory Analisys of the Data **"
   ]
  },
  {
   "cell_type": "code",
   "execution_count": 4,
   "metadata": {},
   "outputs": [
    {
     "name": "stdout",
     "output_type": "stream",
     "text": [
      "<class 'pandas.core.frame.DataFrame'>\n",
      "RangeIndex: 20640 entries, 0 to 20639\n",
      "Data columns (total 10 columns):\n",
      "longitude             20640 non-null float64\n",
      "latitude              20640 non-null float64\n",
      "housing_median_age    20640 non-null float64\n",
      "total_rooms           20640 non-null float64\n",
      "total_bedrooms        20433 non-null float64\n",
      "population            20640 non-null float64\n",
      "households            20640 non-null float64\n",
      "median_income         20640 non-null float64\n",
      "median_house_value    20640 non-null float64\n",
      "ocean_proximity       20640 non-null object\n",
      "dtypes: float64(9), object(1)\n",
      "memory usage: 1.6+ MB\n"
     ]
    }
   ],
   "source": [
    "df_housing_raw.info()"
   ]
  },
  {
   "cell_type": "markdown",
   "metadata": {},
   "source": [
    "**_Check the data counts and if needed, remove the records with possibly missing values.\n",
    "You can use the dropna method in pandas for this._**"
   ]
  },
  {
   "cell_type": "markdown",
   "metadata": {},
   "source": [
    "*Removing the NA's *"
   ]
  },
  {
   "cell_type": "code",
   "execution_count": 5,
   "metadata": {
    "collapsed": true
   },
   "outputs": [],
   "source": [
    "df_housing_raw.dropna(inplace=True)"
   ]
  },
  {
   "cell_type": "markdown",
   "metadata": {},
   "source": [
    "*The statistical*"
   ]
  },
  {
   "cell_type": "code",
   "execution_count": 6,
   "metadata": {},
   "outputs": [
    {
     "data": {
      "text/html": [
       "<div>\n",
       "<style>\n",
       "    .dataframe thead tr:only-child th {\n",
       "        text-align: right;\n",
       "    }\n",
       "\n",
       "    .dataframe thead th {\n",
       "        text-align: left;\n",
       "    }\n",
       "\n",
       "    .dataframe tbody tr th {\n",
       "        vertical-align: top;\n",
       "    }\n",
       "</style>\n",
       "<table border=\"1\" class=\"dataframe\">\n",
       "  <thead>\n",
       "    <tr style=\"text-align: right;\">\n",
       "      <th></th>\n",
       "      <th>count</th>\n",
       "      <th>mean</th>\n",
       "      <th>std</th>\n",
       "      <th>min</th>\n",
       "      <th>25%</th>\n",
       "      <th>50%</th>\n",
       "      <th>75%</th>\n",
       "      <th>max</th>\n",
       "    </tr>\n",
       "  </thead>\n",
       "  <tbody>\n",
       "    <tr>\n",
       "      <th>longitude</th>\n",
       "      <td>20433.0</td>\n",
       "      <td>-119.570689</td>\n",
       "      <td>2.003578</td>\n",
       "      <td>-124.3500</td>\n",
       "      <td>-121.8000</td>\n",
       "      <td>-118.4900</td>\n",
       "      <td>-118.010</td>\n",
       "      <td>-114.3100</td>\n",
       "    </tr>\n",
       "    <tr>\n",
       "      <th>latitude</th>\n",
       "      <td>20433.0</td>\n",
       "      <td>35.633221</td>\n",
       "      <td>2.136348</td>\n",
       "      <td>32.5400</td>\n",
       "      <td>33.9300</td>\n",
       "      <td>34.2600</td>\n",
       "      <td>37.720</td>\n",
       "      <td>41.9500</td>\n",
       "    </tr>\n",
       "    <tr>\n",
       "      <th>housing_median_age</th>\n",
       "      <td>20433.0</td>\n",
       "      <td>28.633094</td>\n",
       "      <td>12.591805</td>\n",
       "      <td>1.0000</td>\n",
       "      <td>18.0000</td>\n",
       "      <td>29.0000</td>\n",
       "      <td>37.000</td>\n",
       "      <td>52.0000</td>\n",
       "    </tr>\n",
       "    <tr>\n",
       "      <th>total_rooms</th>\n",
       "      <td>20433.0</td>\n",
       "      <td>2636.504233</td>\n",
       "      <td>2185.269567</td>\n",
       "      <td>2.0000</td>\n",
       "      <td>1450.0000</td>\n",
       "      <td>2127.0000</td>\n",
       "      <td>3143.000</td>\n",
       "      <td>39320.0000</td>\n",
       "    </tr>\n",
       "    <tr>\n",
       "      <th>total_bedrooms</th>\n",
       "      <td>20433.0</td>\n",
       "      <td>537.870553</td>\n",
       "      <td>421.385070</td>\n",
       "      <td>1.0000</td>\n",
       "      <td>296.0000</td>\n",
       "      <td>435.0000</td>\n",
       "      <td>647.000</td>\n",
       "      <td>6445.0000</td>\n",
       "    </tr>\n",
       "    <tr>\n",
       "      <th>population</th>\n",
       "      <td>20433.0</td>\n",
       "      <td>1424.946949</td>\n",
       "      <td>1133.208490</td>\n",
       "      <td>3.0000</td>\n",
       "      <td>787.0000</td>\n",
       "      <td>1166.0000</td>\n",
       "      <td>1722.000</td>\n",
       "      <td>35682.0000</td>\n",
       "    </tr>\n",
       "    <tr>\n",
       "      <th>households</th>\n",
       "      <td>20433.0</td>\n",
       "      <td>499.433465</td>\n",
       "      <td>382.299226</td>\n",
       "      <td>1.0000</td>\n",
       "      <td>280.0000</td>\n",
       "      <td>409.0000</td>\n",
       "      <td>604.000</td>\n",
       "      <td>6082.0000</td>\n",
       "    </tr>\n",
       "    <tr>\n",
       "      <th>median_income</th>\n",
       "      <td>20433.0</td>\n",
       "      <td>3.871162</td>\n",
       "      <td>1.899291</td>\n",
       "      <td>0.4999</td>\n",
       "      <td>2.5637</td>\n",
       "      <td>3.5365</td>\n",
       "      <td>4.744</td>\n",
       "      <td>15.0001</td>\n",
       "    </tr>\n",
       "    <tr>\n",
       "      <th>median_house_value</th>\n",
       "      <td>20433.0</td>\n",
       "      <td>206864.413155</td>\n",
       "      <td>115435.667099</td>\n",
       "      <td>14999.0000</td>\n",
       "      <td>119500.0000</td>\n",
       "      <td>179700.0000</td>\n",
       "      <td>264700.000</td>\n",
       "      <td>500001.0000</td>\n",
       "    </tr>\n",
       "  </tbody>\n",
       "</table>\n",
       "</div>"
      ],
      "text/plain": [
       "                      count           mean            std         min  \\\n",
       "longitude           20433.0    -119.570689       2.003578   -124.3500   \n",
       "latitude            20433.0      35.633221       2.136348     32.5400   \n",
       "housing_median_age  20433.0      28.633094      12.591805      1.0000   \n",
       "total_rooms         20433.0    2636.504233    2185.269567      2.0000   \n",
       "total_bedrooms      20433.0     537.870553     421.385070      1.0000   \n",
       "population          20433.0    1424.946949    1133.208490      3.0000   \n",
       "households          20433.0     499.433465     382.299226      1.0000   \n",
       "median_income       20433.0       3.871162       1.899291      0.4999   \n",
       "median_house_value  20433.0  206864.413155  115435.667099  14999.0000   \n",
       "\n",
       "                            25%          50%         75%          max  \n",
       "longitude             -121.8000    -118.4900    -118.010    -114.3100  \n",
       "latitude                33.9300      34.2600      37.720      41.9500  \n",
       "housing_median_age      18.0000      29.0000      37.000      52.0000  \n",
       "total_rooms           1450.0000    2127.0000    3143.000   39320.0000  \n",
       "total_bedrooms         296.0000     435.0000     647.000    6445.0000  \n",
       "population             787.0000    1166.0000    1722.000   35682.0000  \n",
       "households             280.0000     409.0000     604.000    6082.0000  \n",
       "median_income            2.5637       3.5365       4.744      15.0001  \n",
       "median_house_value  119500.0000  179700.0000  264700.000  500001.0000  "
      ]
     },
     "execution_count": 6,
     "metadata": {},
     "output_type": "execute_result"
    }
   ],
   "source": [
    "df_housing_raw.describe().T"
   ]
  },
  {
   "cell_type": "code",
   "execution_count": 7,
   "metadata": {},
   "outputs": [
    {
     "data": {
      "text/plain": [
       "(20433, 10)"
      ]
     },
     "execution_count": 7,
     "metadata": {},
     "output_type": "execute_result"
    }
   ],
   "source": [
    "df_housing_raw.shape"
   ]
  },
  {
   "cell_type": "code",
   "execution_count": 8,
   "metadata": {},
   "outputs": [
    {
     "name": "stdout",
     "output_type": "stream",
     "text": [
      "0  /  10\n",
      "0  /  20433\n"
     ]
    }
   ],
   "source": [
    "print(df_housing_raw.isnull().any().sum(), ' / ', len(df_housing_raw.columns))\n",
    "\n",
    "print(df_housing_raw.isnull().any(axis=1).sum(), ' / ', len(df_housing_raw))"
   ]
  },
  {
   "cell_type": "markdown",
   "metadata": {},
   "source": [
    "Working variables:\n",
    "\n",
    "For simplicity we will not consider the longitude and latitude variables. We will also ignore the categoric variable `ocean_proximity`although it might encode useful house value information."
   ]
  },
  {
   "cell_type": "code",
   "execution_count": 9,
   "metadata": {
    "collapsed": true
   },
   "outputs": [],
   "source": [
    "vars1     = ['housing_median_age', 'total_rooms', 'total_bedrooms', 'population', 'households', 'median_income']\n",
    "target   = ['median_house_value']"
   ]
  },
  {
   "cell_type": "markdown",
   "metadata": {},
   "source": [
    "**_The initial variables may not be too useful as some of them (e.g., `total_rooms`) represent total values over a district. It seems thus sensible to use as new (or extra) variables their averages per household._**\n",
    "\n",
    "**_Decide which variables should be thus treated and which shouldn't, compute the new variables you think useful_**\n",
    "\n",
    "**_Explain HERE clearly why you choose the new variables_**"
   ]
  },
  {
   "cell_type": "markdown",
   "metadata": {},
   "source": [
    " * We will create a new variable called *rooms_per_household* as a fraction of *total_rooms* divide by *househols*"
   ]
  },
  {
   "cell_type": "code",
   "execution_count": 10,
   "metadata": {
    "collapsed": true
   },
   "outputs": [],
   "source": [
    "df_housing_raw[\"rooms_per_household\"] = df_housing_raw[\"total_rooms\"] / df_housing_raw[\"households\"]\n"
   ]
  },
  {
   "cell_type": "markdown",
   "metadata": {},
   "source": [
    " * We will create a new variable  to get the bedrooms per rooms this variablis will tell us how many bedrooms has the house per rooms"
   ]
  },
  {
   "cell_type": "code",
   "execution_count": 11,
   "metadata": {
    "collapsed": true
   },
   "outputs": [],
   "source": [
    "df_housing_raw[\"bedrooms_per_room\"] = df_housing_raw[\"total_bedrooms\"] / df_housing_raw[\"total_rooms\"]\n"
   ]
  },
  {
   "cell_type": "markdown",
   "metadata": {},
   "source": [
    " * Finally let´s get to create the variable *population_per _houselhold* in order to know how many people are in the \n",
    "neighborhood"
   ]
  },
  {
   "cell_type": "code",
   "execution_count": 12,
   "metadata": {
    "collapsed": true
   },
   "outputs": [],
   "source": [
    "df_housing_raw[\"population_per_household\"] =df_housing_raw[\"population\"] / df_housing_raw[\"households\"]"
   ]
  },
  {
   "cell_type": "markdown",
   "metadata": {},
   "source": [
    "**_Analyze the new data looking for extreme values and, finally, drop those patterns for which some of these variables may have values that you think unlikely._**\n",
    "\n",
    "**_Explain HERE clearly which values you consider too high and how you are to what transform the initial data_**"
   ]
  },
  {
   "cell_type": "markdown",
   "metadata": {},
   "source": [
    "Let's plot the histogram of each variable"
   ]
  },
  {
   "cell_type": "code",
   "execution_count": 13,
   "metadata": {},
   "outputs": [
    {
     "data": {
      "image/png": "[encoded data removed]",
      "text/plain": [
       "<matplotlib.figure.Figure at 0x2b76f0f60b8>"
      ]
     },
     "metadata": {},
     "output_type": "display_data"
    }
   ],
   "source": [
    "\n",
    "df_housing_raw.hist(bins=50, figsize=(20,15))\n",
    "plt.show()"
   ]
  },
  {
   "cell_type": "code",
   "execution_count": 14,
   "metadata": {},
   "outputs": [
    {
     "data": {
      "image/png": "[encoded data removed]",
      "text/plain": [
       "<matplotlib.figure.Figure at 0x2b77a483208>"
      ]
     },
     "metadata": {},
     "output_type": "display_data"
    }
   ],
   "source": [
    "import matplotlib.pyplot as plt\n",
    "from __future__ import print_function\n",
    "import matplotlib.pyplot as plt\n",
    "from matplotlib.lines import Line2D\n",
    "from matplotlib.patches import Rectangle\n",
    "from matplotlib.text import Text\n",
    "from matplotlib.image import AxesImage\n",
    "import numpy as np\n",
    "from numpy.random import rand\n",
    "#%matplotlib notebook\n",
    "def onclick(event):\n",
    "    ind = event.ind\n",
    "    print('onpick3 scatter:', ind, np.take(x, ind), np.take(y, ind))\n",
    "\n",
    "\n",
    "fig,ax = plt.subplots()\n",
    "col= ax.scatter(x=df_housing_raw[df_housing_raw.median_house_value!=270000]['median_income'],y=df_housing_raw[df_housing_raw.median_house_value!=270000]['median_house_value'], picker= 10, alpha=0.2)\n",
    "fig.canvas.mpl_connect('pick_event', onclick)\n",
    "plt.show()"
   ]
  },
  {
   "cell_type": "markdown",
   "metadata": {},
   "source": [
    "**As we can see in the histogram and in the scatterplot the housing median age vs the median house value were capped, and we need to delete that observations in order to have a clean data. we noticed as the price\n",
    "cap is clearly visible as a horizontal line at  \\$500,000. But this plot reveals other less obvious straight lines: a horizontal line around \\$450,000, \\$275000 and so on.**"
   ]
  },
  {
   "cell_type": "code",
   "execution_count": 15,
   "metadata": {},
   "outputs": [
    {
     "data": {
      "image/png": "[encoded data removed]",
      "text/plain": [
       "<matplotlib.figure.Figure at 0x2b77a4834a8>"
      ]
     },
     "metadata": {},
     "output_type": "display_data"
    }
   ],
   "source": [
    "#normalizamos para tener rangos uniformes en histogramas\n",
    "import seaborn as sns\n",
    "df_housing_select = df_housing_raw[vars1+ ['rooms_per_household', 'bedrooms_per_room','population_per_household' ]+\n",
    "                                   target]\n",
    "\n",
    "df_housing_normalized = (df_housing_select - df_housing_select.mean()) / df_housing_select.std() \n",
    "\n",
    "plt.figure( figsize=(8, 5))\n",
    "#sns.set_style(\"white\")\n",
    "bx_plot = sns.boxplot(data=df_housing_normalized)\n",
    "#bx_plot = sns.boxplot(data=df_housing)\n",
    "plt.xticks(rotation=90)\n",
    "plt.show()"
   ]
  },
  {
   "cell_type": "code",
   "execution_count": 16,
   "metadata": {},
   "outputs": [
    {
     "data": {
      "text/html": [
       "<div>\n",
       "<style>\n",
       "    .dataframe thead tr:only-child th {\n",
       "        text-align: right;\n",
       "    }\n",
       "\n",
       "    .dataframe thead th {\n",
       "        text-align: left;\n",
       "    }\n",
       "\n",
       "    .dataframe tbody tr th {\n",
       "        vertical-align: top;\n",
       "    }\n",
       "</style>\n",
       "<table border=\"1\" class=\"dataframe\">\n",
       "  <thead>\n",
       "    <tr style=\"text-align: right;\">\n",
       "      <th></th>\n",
       "      <th>housing_median_age</th>\n",
       "      <th>total_rooms</th>\n",
       "      <th>total_bedrooms</th>\n",
       "      <th>population</th>\n",
       "      <th>households</th>\n",
       "      <th>median_income</th>\n",
       "      <th>rooms_per_household</th>\n",
       "      <th>bedrooms_per_room</th>\n",
       "      <th>population_per_household</th>\n",
       "      <th>median_house_value</th>\n",
       "    </tr>\n",
       "  </thead>\n",
       "  <tbody>\n",
       "    <tr>\n",
       "      <th>0</th>\n",
       "      <td>41.0</td>\n",
       "      <td>880.0</td>\n",
       "      <td>129.0</td>\n",
       "      <td>322.0</td>\n",
       "      <td>126.0</td>\n",
       "      <td>8.3252</td>\n",
       "      <td>6.984127</td>\n",
       "      <td>0.146591</td>\n",
       "      <td>2.555556</td>\n",
       "      <td>452600.0</td>\n",
       "    </tr>\n",
       "    <tr>\n",
       "      <th>1</th>\n",
       "      <td>21.0</td>\n",
       "      <td>7099.0</td>\n",
       "      <td>1106.0</td>\n",
       "      <td>2401.0</td>\n",
       "      <td>1138.0</td>\n",
       "      <td>8.3014</td>\n",
       "      <td>6.238137</td>\n",
       "      <td>0.155797</td>\n",
       "      <td>2.109842</td>\n",
       "      <td>358500.0</td>\n",
       "    </tr>\n",
       "    <tr>\n",
       "      <th>2</th>\n",
       "      <td>52.0</td>\n",
       "      <td>1467.0</td>\n",
       "      <td>190.0</td>\n",
       "      <td>496.0</td>\n",
       "      <td>177.0</td>\n",
       "      <td>7.2574</td>\n",
       "      <td>8.288136</td>\n",
       "      <td>0.129516</td>\n",
       "      <td>2.802260</td>\n",
       "      <td>352100.0</td>\n",
       "    </tr>\n",
       "    <tr>\n",
       "      <th>3</th>\n",
       "      <td>52.0</td>\n",
       "      <td>1274.0</td>\n",
       "      <td>235.0</td>\n",
       "      <td>558.0</td>\n",
       "      <td>219.0</td>\n",
       "      <td>5.6431</td>\n",
       "      <td>5.817352</td>\n",
       "      <td>0.184458</td>\n",
       "      <td>2.547945</td>\n",
       "      <td>341300.0</td>\n",
       "    </tr>\n",
       "    <tr>\n",
       "      <th>4</th>\n",
       "      <td>52.0</td>\n",
       "      <td>1627.0</td>\n",
       "      <td>280.0</td>\n",
       "      <td>565.0</td>\n",
       "      <td>259.0</td>\n",
       "      <td>3.8462</td>\n",
       "      <td>6.281853</td>\n",
       "      <td>0.172096</td>\n",
       "      <td>2.181467</td>\n",
       "      <td>342200.0</td>\n",
       "    </tr>\n",
       "  </tbody>\n",
       "</table>\n",
       "</div>"
      ],
      "text/plain": [
       "   housing_median_age  total_rooms  total_bedrooms  population  households  \\\n",
       "0                41.0        880.0           129.0       322.0       126.0   \n",
       "1                21.0       7099.0          1106.0      2401.0      1138.0   \n",
       "2                52.0       1467.0           190.0       496.0       177.0   \n",
       "3                52.0       1274.0           235.0       558.0       219.0   \n",
       "4                52.0       1627.0           280.0       565.0       259.0   \n",
       "\n",
       "   median_income  rooms_per_household  bedrooms_per_room  \\\n",
       "0         8.3252             6.984127           0.146591   \n",
       "1         8.3014             6.238137           0.155797   \n",
       "2         7.2574             8.288136           0.129516   \n",
       "3         5.6431             5.817352           0.184458   \n",
       "4         3.8462             6.281853           0.172096   \n",
       "\n",
       "   population_per_household  median_house_value  \n",
       "0                  2.555556            452600.0  \n",
       "1                  2.109842            358500.0  \n",
       "2                  2.802260            352100.0  \n",
       "3                  2.547945            341300.0  \n",
       "4                  2.181467            342200.0  "
      ]
     },
     "execution_count": 16,
     "metadata": {},
     "output_type": "execute_result"
    }
   ],
   "source": [
    "df_housing_select.head()"
   ]
  },
  {
   "cell_type": "markdown",
   "metadata": {},
   "source": [
    "### Let's  make some regression plots in order to see the influence of outliers"
   ]
  },
  {
   "cell_type": "code",
   "execution_count": 17,
   "metadata": {
    "scrolled": false
   },
   "outputs": [
    {
     "data": {
      "image/png": "[encoded data removed]",
      "text/plain": [
       "<matplotlib.figure.Figure at 0x2b77af54400>"
      ]
     },
     "metadata": {},
     "output_type": "display_data"
    }
   ],
   "source": [
    "sns.regplot(x=df_housing_select['rooms_per_household'],y=df_housing_select['median_house_value'])\n",
    "plt.show()"
   ]
  },
  {
   "cell_type": "code",
   "execution_count": 18,
   "metadata": {
    "scrolled": true
   },
   "outputs": [
    {
     "data": {
      "image/png": "[encoded data removed]",
      "text/plain": [
       "<matplotlib.figure.Figure at 0x2b77a60b080>"
      ]
     },
     "metadata": {},
     "output_type": "display_data"
    }
   ],
   "source": [
    "sns.regplot(x=df_housing_select['bedrooms_per_room'],y=df_housing_select['median_house_value'])\n",
    "plt.show()"
   ]
  },
  {
   "cell_type": "code",
   "execution_count": 19,
   "metadata": {},
   "outputs": [
    {
     "data": {
      "image/png": "[encoded data removed]",
      "text/plain": [
       "<matplotlib.figure.Figure at 0x2b77813ce10>"
      ]
     },
     "metadata": {},
     "output_type": "display_data"
    }
   ],
   "source": [
    "sns.regplot(x=df_housing_select['population'],y=df_housing_select['median_house_value'])\n",
    "plt.show()"
   ]
  },
  {
   "cell_type": "code",
   "execution_count": 20,
   "metadata": {
    "scrolled": false
   },
   "outputs": [
    {
     "data": {
      "image/png": "[encoded data removed]",
      "text/plain": [
       "<matplotlib.figure.Figure at 0x2b777f9e438>"
      ]
     },
     "metadata": {},
     "output_type": "display_data"
    }
   ],
   "source": [
    "sns.regplot(x=df_housing_select['population_per_household'],y=df_housing_select['median_house_value'])\n",
    "plt.show()"
   ]
  },
  {
   "cell_type": "code",
   "execution_count": 21,
   "metadata": {},
   "outputs": [
    {
     "data": {
      "text/html": [
       "<div>\n",
       "<style>\n",
       "    .dataframe thead tr:only-child th {\n",
       "        text-align: right;\n",
       "    }\n",
       "\n",
       "    .dataframe thead th {\n",
       "        text-align: left;\n",
       "    }\n",
       "\n",
       "    .dataframe tbody tr th {\n",
       "        vertical-align: top;\n",
       "    }\n",
       "</style>\n",
       "<table border=\"1\" class=\"dataframe\">\n",
       "  <thead>\n",
       "    <tr style=\"text-align: right;\">\n",
       "      <th></th>\n",
       "      <th>count</th>\n",
       "      <th>mean</th>\n",
       "      <th>std</th>\n",
       "      <th>min</th>\n",
       "      <th>25%</th>\n",
       "      <th>50%</th>\n",
       "      <th>75%</th>\n",
       "      <th>max</th>\n",
       "    </tr>\n",
       "  </thead>\n",
       "  <tbody>\n",
       "    <tr>\n",
       "      <th>housing_median_age</th>\n",
       "      <td>20433.0</td>\n",
       "      <td>28.633094</td>\n",
       "      <td>12.591805</td>\n",
       "      <td>1.000000</td>\n",
       "      <td>18.000000</td>\n",
       "      <td>29.000000</td>\n",
       "      <td>37.000000</td>\n",
       "      <td>52.000000</td>\n",
       "    </tr>\n",
       "    <tr>\n",
       "      <th>total_rooms</th>\n",
       "      <td>20433.0</td>\n",
       "      <td>2636.504233</td>\n",
       "      <td>2185.269567</td>\n",
       "      <td>2.000000</td>\n",
       "      <td>1450.000000</td>\n",
       "      <td>2127.000000</td>\n",
       "      <td>3143.000000</td>\n",
       "      <td>39320.000000</td>\n",
       "    </tr>\n",
       "    <tr>\n",
       "      <th>total_bedrooms</th>\n",
       "      <td>20433.0</td>\n",
       "      <td>537.870553</td>\n",
       "      <td>421.385070</td>\n",
       "      <td>1.000000</td>\n",
       "      <td>296.000000</td>\n",
       "      <td>435.000000</td>\n",
       "      <td>647.000000</td>\n",
       "      <td>6445.000000</td>\n",
       "    </tr>\n",
       "    <tr>\n",
       "      <th>population</th>\n",
       "      <td>20433.0</td>\n",
       "      <td>1424.946949</td>\n",
       "      <td>1133.208490</td>\n",
       "      <td>3.000000</td>\n",
       "      <td>787.000000</td>\n",
       "      <td>1166.000000</td>\n",
       "      <td>1722.000000</td>\n",
       "      <td>35682.000000</td>\n",
       "    </tr>\n",
       "    <tr>\n",
       "      <th>households</th>\n",
       "      <td>20433.0</td>\n",
       "      <td>499.433465</td>\n",
       "      <td>382.299226</td>\n",
       "      <td>1.000000</td>\n",
       "      <td>280.000000</td>\n",
       "      <td>409.000000</td>\n",
       "      <td>604.000000</td>\n",
       "      <td>6082.000000</td>\n",
       "    </tr>\n",
       "    <tr>\n",
       "      <th>median_income</th>\n",
       "      <td>20433.0</td>\n",
       "      <td>3.871162</td>\n",
       "      <td>1.899291</td>\n",
       "      <td>0.499900</td>\n",
       "      <td>2.563700</td>\n",
       "      <td>3.536500</td>\n",
       "      <td>4.744000</td>\n",
       "      <td>15.000100</td>\n",
       "    </tr>\n",
       "    <tr>\n",
       "      <th>rooms_per_household</th>\n",
       "      <td>20433.0</td>\n",
       "      <td>5.431344</td>\n",
       "      <td>2.482946</td>\n",
       "      <td>0.846154</td>\n",
       "      <td>4.441441</td>\n",
       "      <td>5.230769</td>\n",
       "      <td>6.052381</td>\n",
       "      <td>141.909091</td>\n",
       "    </tr>\n",
       "    <tr>\n",
       "      <th>bedrooms_per_room</th>\n",
       "      <td>20433.0</td>\n",
       "      <td>0.213039</td>\n",
       "      <td>0.057983</td>\n",
       "      <td>0.100000</td>\n",
       "      <td>0.175427</td>\n",
       "      <td>0.203162</td>\n",
       "      <td>0.239821</td>\n",
       "      <td>1.000000</td>\n",
       "    </tr>\n",
       "    <tr>\n",
       "      <th>population_per_household</th>\n",
       "      <td>20433.0</td>\n",
       "      <td>3.071533</td>\n",
       "      <td>10.438269</td>\n",
       "      <td>0.692308</td>\n",
       "      <td>2.429032</td>\n",
       "      <td>2.817582</td>\n",
       "      <td>3.281513</td>\n",
       "      <td>1243.333333</td>\n",
       "    </tr>\n",
       "    <tr>\n",
       "      <th>median_house_value</th>\n",
       "      <td>20433.0</td>\n",
       "      <td>206864.413155</td>\n",
       "      <td>115435.667099</td>\n",
       "      <td>14999.000000</td>\n",
       "      <td>119500.000000</td>\n",
       "      <td>179700.000000</td>\n",
       "      <td>264700.000000</td>\n",
       "      <td>500001.000000</td>\n",
       "    </tr>\n",
       "  </tbody>\n",
       "</table>\n",
       "</div>"
      ],
      "text/plain": [
       "                            count           mean            std           min  \\\n",
       "housing_median_age        20433.0      28.633094      12.591805      1.000000   \n",
       "total_rooms               20433.0    2636.504233    2185.269567      2.000000   \n",
       "total_bedrooms            20433.0     537.870553     421.385070      1.000000   \n",
       "population                20433.0    1424.946949    1133.208490      3.000000   \n",
       "households                20433.0     499.433465     382.299226      1.000000   \n",
       "median_income             20433.0       3.871162       1.899291      0.499900   \n",
       "rooms_per_household       20433.0       5.431344       2.482946      0.846154   \n",
       "bedrooms_per_room         20433.0       0.213039       0.057983      0.100000   \n",
       "population_per_household  20433.0       3.071533      10.438269      0.692308   \n",
       "median_house_value        20433.0  206864.413155  115435.667099  14999.000000   \n",
       "\n",
       "                                    25%            50%            75%  \\\n",
       "housing_median_age            18.000000      29.000000      37.000000   \n",
       "total_rooms                 1450.000000    2127.000000    3143.000000   \n",
       "total_bedrooms               296.000000     435.000000     647.000000   \n",
       "population                   787.000000    1166.000000    1722.000000   \n",
       "households                   280.000000     409.000000     604.000000   \n",
       "median_income                  2.563700       3.536500       4.744000   \n",
       "rooms_per_household            4.441441       5.230769       6.052381   \n",
       "bedrooms_per_room              0.175427       0.203162       0.239821   \n",
       "population_per_household       2.429032       2.817582       3.281513   \n",
       "median_house_value        119500.000000  179700.000000  264700.000000   \n",
       "\n",
       "                                    max  \n",
       "housing_median_age            52.000000  \n",
       "total_rooms                39320.000000  \n",
       "total_bedrooms              6445.000000  \n",
       "population                 35682.000000  \n",
       "households                  6082.000000  \n",
       "median_income                 15.000100  \n",
       "rooms_per_household          141.909091  \n",
       "bedrooms_per_room              1.000000  \n",
       "population_per_household    1243.333333  \n",
       "median_house_value        500001.000000  "
      ]
     },
     "execution_count": 21,
     "metadata": {},
     "output_type": "execute_result"
    }
   ],
   "source": [
    "df_housing_select.describe().T"
   ]
  },
  {
   "cell_type": "markdown",
   "metadata": {},
   "source": [
    "### Drop observations with *room_per_houselhold* greater than 35, *population* greater than 12000"
   ]
  },
  {
   "cell_type": "code",
   "execution_count": 22,
   "metadata": {
    "collapsed": true
   },
   "outputs": [],
   "source": [
    "from scipy import stats\n",
    "df_housing_select = df_housing_select[(np.abs(stats.zscore(df_housing_select)) < 3).all(axis=1)]"
   ]
  },
  {
   "cell_type": "code",
   "execution_count": 23,
   "metadata": {
    "collapsed": true,
    "scrolled": true
   },
   "outputs": [],
   "source": [
    "df_housing_select = df_housing_select.drop(df_housing_select[(df_housing_select.rooms_per_household>=35) | (df_housing_select.population >= 12000)  ].index)"
   ]
  },
  {
   "cell_type": "markdown",
   "metadata": {},
   "source": [
    "### Drop observations with *housing_median_value* greater than 500000, because these values were capped"
   ]
  },
  {
   "cell_type": "code",
   "execution_count": 24,
   "metadata": {
    "collapsed": true
   },
   "outputs": [],
   "source": [
    "df_housing_select = df_housing_select.drop(df_housing_select[(df_housing_select.median_house_value>=500000)  ].index)"
   ]
  },
  {
   "cell_type": "code",
   "execution_count": 25,
   "metadata": {
    "collapsed": true
   },
   "outputs": [],
   "source": [
    "df_housing_select = df_housing_select.drop(df_housing_select[(df_housing_select.median_house_value==450000)  ].index)\n",
    "df_housing_select = df_housing_select.drop(df_housing_select[(df_housing_select.median_house_value==350000)  ].index)\n",
    "df_housing_select = df_housing_select.drop(df_housing_select[(df_housing_select.median_house_value==275000)  ].index)\n",
    "df_housing_select = df_housing_select.drop(df_housing_select[(df_housing_select.median_house_value==225000)  ].index)\n",
    "df_housing_select = df_housing_select.drop(df_housing_select[(df_housing_select.median_house_value==162500)  ].index)\n",
    "df_housing_select = df_housing_select.drop(df_housing_select[(df_housing_select.median_house_value==137500)  ].index)\n",
    "df_housing_select = df_housing_select.drop(df_housing_select[(df_housing_select.population_per_household>=10)  ].index)\n"
   ]
  },
  {
   "cell_type": "code",
   "execution_count": 26,
   "metadata": {},
   "outputs": [
    {
     "data": {
      "text/plain": [
       "(18061, 10)"
      ]
     },
     "execution_count": 26,
     "metadata": {},
     "output_type": "execute_result"
    }
   ],
   "source": [
    "df_housing_select.shape"
   ]
  },
  {
   "cell_type": "markdown",
   "metadata": {},
   "source": [
    "Finally we have 18025 observations"
   ]
  },
  {
   "cell_type": "markdown",
   "metadata": {},
   "source": [
    "**_After these operations have been done, write HERE a descriptive analysis of your data, considering whether you could drop some features to alleviate computational costs. "
   ]
  },
  {
   "cell_type": "markdown",
   "metadata": {
    "collapsed": true
   },
   "source": [
    "We decide to drop the vars *\"total_rooms\", \"total_bedrooms\", \"households\", \"population\", \"housing_median_age\"*"
   ]
  },
  {
   "cell_type": "code",
   "execution_count": 27,
   "metadata": {
    "collapsed": true,
    "scrolled": true
   },
   "outputs": [],
   "source": [
    "df_housing_select.drop([ \"total_rooms\", \"total_bedrooms\", \"households\", \"population\", \"housing_median_age\", \"rooms_per_household\"], axis=1, inplace=True)"
   ]
  },
  {
   "cell_type": "code",
   "execution_count": 28,
   "metadata": {},
   "outputs": [
    {
     "data": {
      "text/html": [
       "<div>\n",
       "<style>\n",
       "    .dataframe thead tr:only-child th {\n",
       "        text-align: right;\n",
       "    }\n",
       "\n",
       "    .dataframe thead th {\n",
       "        text-align: left;\n",
       "    }\n",
       "\n",
       "    .dataframe tbody tr th {\n",
       "        vertical-align: top;\n",
       "    }\n",
       "</style>\n",
       "<table border=\"1\" class=\"dataframe\">\n",
       "  <thead>\n",
       "    <tr style=\"text-align: right;\">\n",
       "      <th></th>\n",
       "      <th>count</th>\n",
       "      <th>mean</th>\n",
       "      <th>std</th>\n",
       "      <th>min</th>\n",
       "      <th>25%</th>\n",
       "      <th>50%</th>\n",
       "      <th>75%</th>\n",
       "      <th>max</th>\n",
       "    </tr>\n",
       "  </thead>\n",
       "  <tbody>\n",
       "    <tr>\n",
       "      <th>median_income</th>\n",
       "      <td>18061.0</td>\n",
       "      <td>3.680477</td>\n",
       "      <td>1.511903</td>\n",
       "      <td>0.499900</td>\n",
       "      <td>2.553600</td>\n",
       "      <td>3.475000</td>\n",
       "      <td>4.590900</td>\n",
       "      <td>9.556100</td>\n",
       "    </tr>\n",
       "    <tr>\n",
       "      <th>bedrooms_per_room</th>\n",
       "      <td>18061.0</td>\n",
       "      <td>0.210929</td>\n",
       "      <td>0.046342</td>\n",
       "      <td>0.100000</td>\n",
       "      <td>0.177497</td>\n",
       "      <td>0.203616</td>\n",
       "      <td>0.237873</td>\n",
       "      <td>0.386709</td>\n",
       "    </tr>\n",
       "    <tr>\n",
       "      <th>population_per_household</th>\n",
       "      <td>18061.0</td>\n",
       "      <td>2.944271</td>\n",
       "      <td>0.747904</td>\n",
       "      <td>1.060606</td>\n",
       "      <td>2.455830</td>\n",
       "      <td>2.840367</td>\n",
       "      <td>3.301653</td>\n",
       "      <td>9.954545</td>\n",
       "    </tr>\n",
       "    <tr>\n",
       "      <th>median_house_value</th>\n",
       "      <td>18061.0</td>\n",
       "      <td>190343.945296</td>\n",
       "      <td>96737.296050</td>\n",
       "      <td>14999.000000</td>\n",
       "      <td>113900.000000</td>\n",
       "      <td>172900.000000</td>\n",
       "      <td>246000.000000</td>\n",
       "      <td>499100.000000</td>\n",
       "    </tr>\n",
       "  </tbody>\n",
       "</table>\n",
       "</div>"
      ],
      "text/plain": [
       "                            count           mean           std           min  \\\n",
       "median_income             18061.0       3.680477      1.511903      0.499900   \n",
       "bedrooms_per_room         18061.0       0.210929      0.046342      0.100000   \n",
       "population_per_household  18061.0       2.944271      0.747904      1.060606   \n",
       "median_house_value        18061.0  190343.945296  96737.296050  14999.000000   \n",
       "\n",
       "                                    25%            50%            75%  \\\n",
       "median_income                  2.553600       3.475000       4.590900   \n",
       "bedrooms_per_room              0.177497       0.203616       0.237873   \n",
       "population_per_household       2.455830       2.840367       3.301653   \n",
       "median_house_value        113900.000000  172900.000000  246000.000000   \n",
       "\n",
       "                                    max  \n",
       "median_income                  9.556100  \n",
       "bedrooms_per_room              0.386709  \n",
       "population_per_household       9.954545  \n",
       "median_house_value        499100.000000  "
      ]
     },
     "execution_count": 28,
     "metadata": {},
     "output_type": "execute_result"
    }
   ],
   "source": [
    "df_housing_select.describe().T"
   ]
  },
  {
   "cell_type": "markdown",
   "metadata": {},
   "source": [
    "## Correlation Analysis"
   ]
  },
  {
   "cell_type": "code",
   "execution_count": 29,
   "metadata": {},
   "outputs": [
    {
     "data": {
      "text/plain": [
       "median_house_value          1.000000\n",
       "median_income               0.671128\n",
       "population_per_household   -0.251629\n",
       "bedrooms_per_room          -0.279503\n",
       "Name: median_house_value, dtype: float64"
      ]
     },
     "execution_count": 29,
     "metadata": {},
     "output_type": "execute_result"
    }
   ],
   "source": [
    "corr_matrix = df_housing_select.corr()\n",
    "corr_matrix[\"median_house_value\"].sort_values(ascending=False)"
   ]
  },
  {
   "cell_type": "markdown",
   "metadata": {},
   "source": [
    "From correlations we can see as the median house value tends to go\n",
    "up when the median income goes up(positive correlation). When the coefficient is close to –1 or negative, it means\n",
    "that there is a negative correlation; we can see a small negative correlation \n",
    "between the population_per_household and the bedrooms_per_room   "
   ]
  },
  {
   "cell_type": "code",
   "execution_count": 30,
   "metadata": {
    "scrolled": false
   },
   "outputs": [
    {
     "data": {
      "image/png": "[encoded data removed]",
      "text/plain": [
       "<matplotlib.figure.Figure at 0x2b77aee6ac8>"
      ]
     },
     "metadata": {},
     "output_type": "display_data"
    }
   ],
   "source": [
    "# correlation heatmap\n",
    "%matplotlib inline\n",
    "cMap = plt.cm.get_cmap(\"inferno\",lut=5) \n",
    "\n",
    "plt.figure( figsize=(10, 8))\n",
    "plt.title('housing correlations')\n",
    "_ = sns.heatmap(df_housing_select.corr().values, vmin=-1., vmax=1., cmap=cMap, annot=True,\n",
    "                xticklabels=list(df_housing_select.columns),\n",
    "                yticklabels=list(df_housing_select.columns))"
   ]
  },
  {
   "cell_type": "code",
   "execution_count": 31,
   "metadata": {
    "scrolled": true
   },
   "outputs": [
    {
     "data": {
      "image/png": "[encoded data removed]",
      "text/plain": [
       "<matplotlib.figure.Figure at 0x2b77aefad30>"
      ]
     },
     "metadata": {},
     "output_type": "display_data"
    }
   ],
   "source": [
    "\n",
    "df_housing_select.hist(bins=50, figsize=(20,15))\n",
    "plt.show()"
   ]
  },
  {
   "cell_type": "code",
   "execution_count": 32,
   "metadata": {
    "scrolled": true
   },
   "outputs": [
    {
     "data": {
      "image/png": "[encoded data removed]",
      "text/plain": [
       "<matplotlib.figure.Figure at 0x2b77bbac5c0>"
      ]
     },
     "metadata": {},
     "output_type": "display_data"
    },
    {
     "data": {
      "image/png": "[encoded data removed]",
      "text/plain": [
       "<matplotlib.figure.Figure at 0x2b77bc1f550>"
      ]
     },
     "metadata": {},
     "output_type": "display_data"
    },
    {
     "data": {
      "image/png": "[encoded data removed]",
      "text/plain": [
       "<matplotlib.figure.Figure at 0x2b77bc86c50>"
      ]
     },
     "metadata": {},
     "output_type": "display_data"
    }
   ],
   "source": [
    "names = df_housing_select.loc[:,  df_housing_select.columns!=\"median_house_value\"].columns\n",
    "for name in names:\n",
    "    ax=sns.boxplot( data=df_housing_select[[name]], linewidth=1)\n",
    "    plt.show()"
   ]
  },
  {
   "cell_type": "markdown",
   "metadata": {},
   "source": [
    "**_Write HERE your conclusions on the data._**"
   ]
  },
  {
   "cell_type": "markdown",
   "metadata": {},
   "source": [
    "The median house value has some weird cap applied to it causing there to be a blip at the rightmost point on the hist, we must removed the cap values, also we notice that is there only few correlations between the var to predict and the predictions variable, and finaly some distributions are skewed to the left."
   ]
  },
  {
   "cell_type": "markdown",
   "metadata": {},
   "source": [
    "### Downsizing the sample\n",
    "\n",
    "Before building our models, notice that the sample size is possibly too high for laptop computations.\n",
    "Because of this we are going to retain only 5000 patterns that we select as follows\n",
    "\n",
    "1. Generate using numpy a permutation of the numerical indices of the sample.\n",
    "2. Retain the first 5000 indices in the permutation.\n",
    "3. Form the final sample dataframe with these 5000 indices.\n",
    "\n",
    "Of these we will retain the last 1000 as a test set and the first 4000 for training and validation purposes.\n",
    "\n",
    "Notice also that target values are given in dollars so some values are quite high. We thus scale them to, say, thousands of dollars dividing the target variable by 1000 in order to have smaller targets and errors."
   ]
  },
  {
   "cell_type": "markdown",
   "metadata": {},
   "source": [
    "Generate the Index:"
   ]
  },
  {
   "cell_type": "code",
   "execution_count": 33,
   "metadata": {
    "collapsed": true
   },
   "outputs": [],
   "source": [
    "from numpy.random import permutation\n",
    "np.random.seed(10)\n",
    "index1 = permutation(len(df_housing_select))\n",
    "index2 = index1[:5000]"
   ]
  },
  {
   "cell_type": "markdown",
   "metadata": {},
   "source": [
    "Select only 5000 observations"
   ]
  },
  {
   "cell_type": "code",
   "execution_count": 34,
   "metadata": {
    "collapsed": true
   },
   "outputs": [],
   "source": [
    "df_housing_select = df_housing_select.iloc[index2]"
   ]
  },
  {
   "cell_type": "code",
   "execution_count": 35,
   "metadata": {},
   "outputs": [
    {
     "data": {
      "text/plain": [
       "Index(['median_income', 'bedrooms_per_room', 'population_per_household',\n",
       "       'median_house_value'],\n",
       "      dtype='object')"
      ]
     },
     "execution_count": 35,
     "metadata": {},
     "output_type": "execute_result"
    }
   ],
   "source": [
    "df_housing_select.columns"
   ]
  },
  {
   "cell_type": "code",
   "execution_count": 36,
   "metadata": {},
   "outputs": [
    {
     "data": {
      "text/plain": [
       "(5000, 4)"
      ]
     },
     "execution_count": 36,
     "metadata": {},
     "output_type": "execute_result"
    }
   ],
   "source": [
    "df_housing_select.shape"
   ]
  },
  {
   "cell_type": "markdown",
   "metadata": {},
   "source": [
    "## MLP models\n",
    "\n",
    "### Building the train and test datasets"
   ]
  },
  {
   "cell_type": "markdown",
   "metadata": {},
   "source": [
    "To make sure that the train and the test is a true representacion of the data, we will select the observations based on **StratifiedShuffleSplit**  based on The variable **median_income**, in order to avoid the risk of introducing a significant sampling bias."
   ]
  },
  {
   "cell_type": "code",
   "execution_count": 37,
   "metadata": {
    "collapsed": true
   },
   "outputs": [],
   "source": [
    "df_housing_select[\"income_cat\"] = np.ceil(df_housing_select[\"median_income\"] / 1.5)\n",
    "df_housing_select[\"income_cat\"].where(df_housing_select[\"income_cat\"] < 5, 5.0, inplace=True)\n"
   ]
  },
  {
   "cell_type": "markdown",
   "metadata": {},
   "source": [
    "Let's check the distribution of income_cat:"
   ]
  },
  {
   "cell_type": "code",
   "execution_count": 38,
   "metadata": {},
   "outputs": [
    {
     "data": {
      "text/plain": [
       "3.0    0.3694\n",
       "2.0    0.3338\n",
       "4.0    0.1782\n",
       "5.0    0.0864\n",
       "1.0    0.0322\n",
       "Name: income_cat, dtype: float64"
      ]
     },
     "execution_count": 38,
     "metadata": {},
     "output_type": "execute_result"
    }
   ],
   "source": [
    " df_housing_select[\"income_cat\"].value_counts() / len(df_housing_select)"
   ]
  },
  {
   "cell_type": "code",
   "execution_count": 39,
   "metadata": {
    "collapsed": true
   },
   "outputs": [],
   "source": [
    "df_housing_select.reset_index(drop=True, inplace=True)"
   ]
  },
  {
   "cell_type": "markdown",
   "metadata": {},
   "source": [
    "Now we split in train(4000) and test (1000) our data "
   ]
  },
  {
   "cell_type": "code",
   "execution_count": 40,
   "metadata": {
    "collapsed": true
   },
   "outputs": [],
   "source": [
    "from sklearn.model_selection import StratifiedShuffleSplit\n",
    "split = StratifiedShuffleSplit(n_splits=1, test_size=0.2, random_state=10)\n",
    "for train_index, test_index in split.split(df_housing_select,df_housing_select[\"income_cat\"]):\n",
    "    train_set = df_housing_select.loc[train_index]\n",
    "    test_set = df_housing_select.loc[test_index]\n"
   ]
  },
  {
   "cell_type": "markdown",
   "metadata": {},
   "source": [
    "The Distribution on train of the **income_cat** variable:"
   ]
  },
  {
   "cell_type": "code",
   "execution_count": 41,
   "metadata": {
    "scrolled": true
   },
   "outputs": [
    {
     "data": {
      "text/plain": [
       "3.0    0.36925\n",
       "2.0    0.33375\n",
       "4.0    0.17825\n",
       "5.0    0.08650\n",
       "1.0    0.03225\n",
       "Name: income_cat, dtype: float64"
      ]
     },
     "execution_count": 41,
     "metadata": {},
     "output_type": "execute_result"
    }
   ],
   "source": [
    "train_set[\"income_cat\"].value_counts() / len(train_set)"
   ]
  },
  {
   "cell_type": "markdown",
   "metadata": {},
   "source": [
    "on Test:"
   ]
  },
  {
   "cell_type": "code",
   "execution_count": 42,
   "metadata": {
    "scrolled": true
   },
   "outputs": [
    {
     "data": {
      "text/plain": [
       "3.0    0.370\n",
       "2.0    0.334\n",
       "4.0    0.178\n",
       "5.0    0.086\n",
       "1.0    0.032\n",
       "Name: income_cat, dtype: float64"
      ]
     },
     "execution_count": 42,
     "metadata": {},
     "output_type": "execute_result"
    }
   ],
   "source": [
    "test_set[\"income_cat\"].value_counts() / len(test_set)"
   ]
  },
  {
   "cell_type": "markdown",
   "metadata": {},
   "source": [
    "Finally, delete the **income_cat** of our data:"
   ]
  },
  {
   "cell_type": "code",
   "execution_count": 43,
   "metadata": {
    "collapsed": true
   },
   "outputs": [],
   "source": [
    "for set in (train_set, test_set):\n",
    "    set.drop([\"income_cat\"], axis=1, inplace=True)\n"
   ]
  },
  {
   "cell_type": "code",
   "execution_count": 44,
   "metadata": {
    "collapsed": true
   },
   "outputs": [],
   "source": [
    "X_train = train_set[train_set.columns.difference(['median_house_value'])]\n",
    "X_test = test_set[train_set.columns.difference(['median_house_value'])]\n",
    "y_train = train_set['median_house_value']\n",
    "y_test = test_set['median_house_value']"
   ]
  },
  {
   "cell_type": "code",
   "execution_count": 45,
   "metadata": {
    "collapsed": true
   },
   "outputs": [],
   "source": [
    "y_train = y_train/1000.0\n",
    "y_test  = y_test/1000.0"
   ]
  },
  {
   "cell_type": "markdown",
   "metadata": {},
   "source": [
    "### MLP architecture\n",
    "\n",
    "Consider first what could be a reasonable number of layers and of units for a MLP. \n",
    "Before starting CV, train individual MLPs likely to overfit mesauring times to get a handle on the tolerance to be used. \n",
    "\n",
    "**_Write HERE your analysis and architecture and parameter and solver choices_**"
   ]
  },
  {
   "cell_type": "code",
   "execution_count": 46,
   "metadata": {
    "collapsed": true
   },
   "outputs": [],
   "source": [
    "from sklearn.neural_network import MLPRegressor\n",
    "from sklearn.preprocessing import StandardScaler\n",
    "std_sc = StandardScaler()\n",
    "x_train = std_sc.fit_transform( X_train)\n",
    "\n"
   ]
  },
  {
   "cell_type": "markdown",
   "metadata": {},
   "source": [
    "We propose an MLP of 2 layers, 17 neuros each:"
   ]
  },
  {
   "cell_type": "code",
   "execution_count": null,
   "metadata": {},
   "outputs": [
    {
     "name": "stdout",
     "output_type": "stream",
     "text": [
      "\n",
      "mlp_grid_search_time: 16.05947208404541 \n",
      "\n",
      "\n"
     ]
    }
   ],
   "source": [
    "hidden_layer_sizes = (17, 17)\n",
    "alpha = 1.e-2\n",
    "\n",
    "#solver: lbfgs para problemas pequeños, adam para problemas grandes\n",
    "mlp_m =  MLPRegressor(hidden_layer_sizes=hidden_layer_sizes, \n",
    "                      activation='relu', \n",
    "                      solver='lbfgs', alpha=alpha,\n",
    "                      early_stopping=True,\n",
    "                      tol=1.e-8, max_iter=10000)\n",
    "t_0 = time.time()\n",
    "mlp_m.fit(x_train, y_train)\n",
    "print(\"\\nmlp_grid_search_time:\", time.time() - t_0, \"\\n\\n\")"
   ]
  },
  {
   "cell_type": "markdown",
   "metadata": {},
   "source": [
    "### CV estimation of `alpha`\n",
    "\n",
    "A reasonable idea is to work with validation sets with more or less the same size than the test set. To do so, use the sklearn `ShuffleSplit` method to work with 5 folds with train-validation splits with sizes 3000-1000.\n",
    "\n",
    "Decide also on a proper range of $\\alpha$ to be explored.\n",
    "\n",
    "**_Write HERE your CV parameter choices_**"
   ]
  },
  {
   "cell_type": "code",
   "execution_count": null,
   "metadata": {},
   "outputs": [
    {
     "name": "stdout",
     "output_type": "stream",
     "text": [
      "Fitting 5 folds for each of 9 candidates, totalling 45 fits\n"
     ]
    },
    {
     "name": "stderr",
     "output_type": "stream",
     "text": [
      "[Parallel(n_jobs=4)]: Done   5 tasks      | elapsed:   54.1s\n"
     ]
    }
   ],
   "source": [
    "# writhe the code to perform GridSearchCV and to save the CV results in a pkl file \n",
    "#            but \n",
    "# COMMENT OUT THE GRID SEARCH FIT CALL AND THE PKL FILE SAVING\n",
    "\n",
    "# use the names of the GridSearchCV object and of the pickle file shown below\n",
    "from sklearn.model_selection import cross_val_score\n",
    "from sklearn.model_selection import KFold\n",
    "from sklearn.model_selection import GridSearchCV\n",
    "from sklearn.model_selection import ShuffleSplit\n",
    "\n",
    "cv = ShuffleSplit(n_splits=5, test_size=0.25, random_state=10)\n",
    "l_alpha = [10.**k for k in range(-4, 5)]\n",
    "hidden_layer_sizes = (17, 17)\n",
    "param_grid = {'alpha': l_alpha}\n",
    "mlp_m =  MLPRegressor( \n",
    "                      hidden_layer_sizes= hidden_layer_sizes,\n",
    "                      activation='relu', \n",
    "                      solver='lbfgs', \n",
    "                      early_stopping=True,\n",
    "                      tol=1.e-6, max_iter=10000)\n",
    "\n",
    "mlp_alpha_search = GridSearchCV(mlp_m, param_grid=param_grid, cv=cv, \n",
    "                                scoring='neg_mean_absolute_error',\n",
    "                                refit=False,\n",
    "                                n_jobs=4, verbose=10)\n",
    "\n",
    "t_0 = time.time()\n",
    "mlp_alpha_search.fit(x_train, y_train)\n",
    "print(\"\\nmlp_grid_search_time:\", time.time() - t_0, \"\\n\\n\")\n",
    "\n",
    "\n",
    "#mlp_alpha_search.fit(x_train, y_train.ravel())\n",
    "        \n",
    "f = open('mlp_alpha_search_results.pkl', mode='wb')\n",
    "pickle.dump(mlp_alpha_search, f)\n",
    "f.close()"
   ]
  },
  {
   "cell_type": "markdown",
   "metadata": {},
   "source": [
    "### Analysis of CV results\n",
    "\n",
    "**_Recover grid search from pickle file and analyze best parameters_**"
   ]
  },
  {
   "cell_type": "code",
   "execution_count": null,
   "metadata": {},
   "outputs": [],
   "source": [
    "f = open('mlp_alpha_search_results.pkl', mode='rb')\n",
    "mlp_alpha_search = pickle.load(f)\n",
    "f.close()\n",
    "\n",
    "best_alpha = mlp_alpha_search.best_params_['alpha']\n",
    "\n",
    "print('best_alpha = %.2f' % (best_alpha))\n",
    "print('best_cv_mae = %.3f' % (-mlp_alpha_search.best_score_))\n",
    "\n",
    "plt.xticks(range(len(l_alpha)), l_alpha, rotation=45)\n",
    "_ = plt.plot( -mlp_alpha_search.cv_results_['mean_test_score'])"
   ]
  },
  {
   "cell_type": "code",
   "execution_count": null,
   "metadata": {},
   "outputs": [],
   "source": [
    "mlp_alpha_search"
   ]
  },
  {
   "cell_type": "markdown",
   "metadata": {},
   "source": [
    "**_Discuss here the adequacy of your CV results_**"
   ]
  },
  {
   "cell_type": "markdown",
   "metadata": {},
   "source": [
    "The results obtained is and alpha of 1000, no too big this parameters help us to combact overfitting by constraining the size of the weights. in other words this value of alpha may fix high variance by encouraging smaller weights."
   ]
  },
  {
   "cell_type": "markdown",
   "metadata": {},
   "source": [
    "### Analysis of Best MLP \n",
    "\n",
    "Train and test the best MLP and analyze its errors."
   ]
  },
  {
   "cell_type": "code",
   "execution_count": null,
   "metadata": {},
   "outputs": [],
   "source": [
    "mlp_m_best = MLPRegressor( \n",
    "                      hidden_layer_sizes= hidden_layer_sizes,\n",
    "                      activation='relu', \n",
    "                      solver='lbfgs', \n",
    "                      early_stopping=True,\n",
    "                      tol=1.e-4, max_iter=10000, alpha=best_alpha)\n",
    "\n",
    "cv_rms_best= cross_val_score(mlp_m_best, x_train, y_train, cv=cv, scoring='neg_mean_absolute_error')\n",
    "print(\"\\ncv mean accuracy: %.3f\" % (cv_rms_best.mean()))\n"
   ]
  },
  {
   "cell_type": "code",
   "execution_count": null,
   "metadata": {},
   "outputs": [],
   "source": [
    "from sklearn.metrics import mean_absolute_error\n",
    "\n",
    "mlp_m_best.fit(x_train, y_train)\n",
    "x_test = std_sc.fit_transform( X_test)\n",
    "y_pred = mlp_m_best.predict(x_test)\n",
    "\n",
    "print(\"MAE: %.3f\" % -mean_absolute_error(y_test, y_pred))\n",
    "\n",
    "plt.title('Real vs Predicted Values')\n",
    "plt.xlabel('House Value')\n",
    "plt.ylabel('House Value_predicted')\n",
    "_ = plt.plot(y_test, y_pred, '.', y_test, y_test, '-')"
   ]
  },
  {
   "cell_type": "markdown",
   "metadata": {},
   "source": [
    "**_Discuss here your conclusions about the MLPs you have obtained_**"
   ]
  },
  {
   "cell_type": "markdown",
   "metadata": {},
   "source": [
    "We have obtained an MLP model with a reasonable error metrics, the model has 17 layer each layer has 17 neurons, and as activation function we have chosen *relu*, as we can see the predict values and fit well the real ones, but in greater  values , the model  fail more."
   ]
  },
  {
   "cell_type": "markdown",
   "metadata": {},
   "source": [
    "## Support Vector Regression\n",
    "\n",
    "### Buildng the train and test datasets"
   ]
  },
  {
   "cell_type": "code",
   "execution_count": null,
   "metadata": {
    "collapsed": true
   },
   "outputs": [],
   "source": [
    "from sklearn.svm import SVR\n",
    "from sklearn.preprocessing import MinMaxScaler"
   ]
  },
  {
   "cell_type": "markdown",
   "metadata": {},
   "source": [
    "### SVR training times\n",
    "\n",
    "We are going to work with a Gaussian SVR model, which may take time to train.\n",
    "Before starting CV, train individual SVRs likely to overfit mesauring times to get a handle on the times involved."
   ]
  },
  {
   "cell_type": "code",
   "execution_count": null,
   "metadata": {},
   "outputs": [],
   "source": [
    "\n",
    "# scale data\n",
    "x = std_sc.fit_transform(X_train)\n",
    "num_patterns, dim = x.shape\n",
    "svc_m = SVR(C=1., gamma=1/dim, kernel='rbf', shrinking=False, tol=1.e-6)\n",
    "\n",
    "t_0 = time.time()\n",
    "svc_m.fit(x, y_train)\n",
    "print(\"train_time:\", time.time() - t_0)\n"
   ]
  },
  {
   "cell_type": "code",
   "execution_count": null,
   "metadata": {},
   "outputs": [],
   "source": [
    "X_test.shape"
   ]
  },
  {
   "cell_type": "code",
   "execution_count": null,
   "metadata": {},
   "outputs": [],
   "source": [
    "dim"
   ]
  },
  {
   "cell_type": "markdown",
   "metadata": {},
   "source": [
    "### CV estimation of `C`, `gamma`, `epsilon`\n",
    "\n",
    "A reasonable idea is to work with validation sets with more or less the same size than the test set. \n",
    "Use again the sklearn `ShuffleSplit` method to work with 5 folds with train-validation splits with sizes 3000-1000.\n",
    "\n",
    "Decide also on the proper ranges of  `C`, `gamma`, `epsilon` to be explored.\n",
    "\n",
    "**_Write HERE your CV parameter choices_**"
   ]
  },
  {
   "cell_type": "code",
   "execution_count": null,
   "metadata": {},
   "outputs": [],
   "source": [
    " list( y_train.std() * np.array([2.**k for k in range(-15, -8)]) )"
   ]
  },
  {
   "cell_type": "code",
   "execution_count": null,
   "metadata": {
    "scrolled": true
   },
   "outputs": [],
   "source": [
    "# writhe the code to perform GridSearchCV and to save the CV results in a pkl file \n",
    "#            but \n",
    "# COMMENT OUT THE GRID SEARCH FIT CALL AND THE PKL FILE SAVING\n",
    "\n",
    "# use the names of the GridSearchCV object and of the pickle file shown below\n",
    "from sklearn.model_selection import StratifiedKFold\n",
    "from sklearn.model_selection import cross_val_score\n",
    "from sklearn.model_selection import KFold\n",
    "from sklearn.model_selection import GridSearchCV\n",
    "from sklearn.model_selection import ShuffleSplit\n",
    "\n",
    "cv = ShuffleSplit(n_splits=5, test_size=0.25, random_state=10)\n",
    "        \n",
    "l_C       = [7.**k for k in range(1, 3) ]\n",
    "l_gamma   = list( np.array([2.**k for k in range(0, 5)]) / dim )\n",
    "\n",
    "l_epsilon = list( y_train.std() * np.array([9.**k for k in range(-5, 1)]))\n",
    "kernel= [ 'rbf']\n",
    "parameters = {'C': l_C, 'gamma': l_gamma, 'epsilon':l_epsilon}\n",
    "\n",
    "print(\"num_hyperparams\", len(l_C) * len(l_gamma)*len(l_epsilon)*len(kernel))\n",
    "\n",
    "\n",
    "svc_m = SVR(kernel='rbf', shrinking=False, tol=1.e-5)\n",
    "\n",
    "C_gamma_epsilon_search = GridSearchCV(svc_m, param_grid=parameters, \n",
    "                              cv=cv, \n",
    "                              scoring='neg_mean_absolute_error', n_jobs=4,\n",
    "                              return_train_score=True, verbose=10)\n",
    "\n",
    "t_0 = time.time()\n",
    "#C_gamma_search.fit(x, y)\n",
    "\n",
    "C_gamma_epsilon_search.fit(x,y_train)\n",
    "print(\"grid_search_time:\", time.time() - t_0)\n",
    "f_pkl = open(\"svr_C_gamma_epsilon_cv_search_results.pkl\", 'wb') \n",
    "pickle.dump(C_gamma_epsilon_search, f_pkl)\n",
    "f_pkl.close()"
   ]
  },
  {
   "cell_type": "markdown",
   "metadata": {},
   "source": [
    "### Analysis of CV results\n",
    "\n",
    "**_Recover grid search from pickle file and analyze best parameters_**"
   ]
  },
  {
   "cell_type": "code",
   "execution_count": null,
   "metadata": {},
   "outputs": [],
   "source": [
    "f_pkl = open('svr_C_gamma_epsilon_cv_search_results.pkl', mode='rb')\n",
    "C_gamma_search = pickle.load(f_pkl)\n",
    "f_pkl.close()\n",
    "\n",
    "print(\"best_C:\", C_gamma_search.best_params_['C'], \"\\tbest_gamma:\", C_gamma_search.best_params_['gamma'], \"\\tbest_epsilon:\", C_gamma_search.best_params_['epsilon'])\n",
    "\n",
    "df_C_gamma_search = pd.DataFrame.from_dict(C_gamma_search.cv_results_)\n",
    "\n",
    "plt.xlabel('C')\n",
    "plt.ylabel('cv acc')\n",
    "plt.xscale('log')\n",
    "#plt.ylim(0.786, 0.788)\n",
    "_ = plt.plot( df_C_gamma_search['param_C'], df_C_gamma_search['mean_test_score'], '.')\n",
    "plt.show()\n",
    "\n",
    "plt.xlabel('gamma')\n",
    "plt.ylabel('cv acc')\n",
    "plt.xscale('log')\n",
    "#plt.ylim(0.786, 0.788)\n",
    "_ = plt.plot( df_C_gamma_search['param_gamma'], df_C_gamma_search['mean_test_score'], '.')\n",
    "plt.show()\n",
    "\n",
    "plt.xlabel('epsilon')\n",
    "plt.ylabel('cv acc')\n",
    "plt.xscale('log')\n",
    "#plt.ylim(0.786, 0.788)\n",
    "_ = plt.plot( df_C_gamma_search['param_epsilon'], df_C_gamma_search['mean_test_score'], '.')\n",
    "plt.show()"
   ]
  },
  {
   "cell_type": "code",
   "execution_count": null,
   "metadata": {},
   "outputs": [],
   "source": [
    "df_C_gamma_search.sort_values(by='mean_test_score', ascending=False)[['param_C', 'param_gamma', 'param_epsilon', 'mean_test_score']][ : 10]"
   ]
  },
  {
   "cell_type": "markdown",
   "metadata": {},
   "source": [
    "**_Discuss here the adequacy of your CV results_**"
   ]
  },
  {
   "cell_type": "markdown",
   "metadata": {
    "collapsed": true
   },
   "source": [
    "High values of γ (low bandwidth) induce more complex models, fortunately we have a low gamma, a low C too, and an epsilon that could allow us some soft separation."
   ]
  },
  {
   "cell_type": "markdown",
   "metadata": {},
   "source": [
    "### Analysis of Best SVR\n",
    "\n",
    "Train and test the best SVR and analyze its errors."
   ]
  },
  {
   "cell_type": "code",
   "execution_count": null,
   "metadata": {},
   "outputs": [],
   "source": [
    "best_C = C_gamma_search.best_params_['C']\n",
    "best_gamma = C_gamma_search.best_params_['gamma']\n",
    "best_eps = C_gamma_search.best_params_['epsilon']\n",
    "svc_m = C_gamma_search.best_estimator_\n",
    "\n",
    "svc_m.fit(x, y_train)\n",
    "\n",
    "print(\"num_svs_per_class:\", svc_m.n_support_)\n",
    "print(\"dual_coefs:       \", svc_m.dual_coef_)\n",
    "print(\"intercep:         \", svc_m.intercept_)"
   ]
  },
  {
   "cell_type": "code",
   "execution_count": null,
   "metadata": {},
   "outputs": [],
   "source": [
    "from sklearn.model_selection import cross_val_score, cross_val_predict, StratifiedShuffleSplit\n",
    "from sklearn.metrics import accuracy_score, recall_score, precision_score, confusion_matrix\n",
    "\n",
    "\n",
    "cv_rms_best = cross_val_score(svc_m, x, y_train, cv=cv, scoring='neg_mean_absolute_error')\n",
    "print(\"\\ncv mean accuracy: %.3f\" % (cv_rms_best.mean()))\n"
   ]
  },
  {
   "cell_type": "code",
   "execution_count": null,
   "metadata": {},
   "outputs": [],
   "source": [
    "x = std_sc.fit_transform( X_train)\n",
    "x1 = std_sc.fit_transform(X_test)\n",
    "svr_m =  C_gamma_search.best_estimator_\n",
    "\n",
    "svr_m.fit(x, y_train)\n"
   ]
  },
  {
   "cell_type": "code",
   "execution_count": null,
   "metadata": {},
   "outputs": [],
   "source": [
    "y_pred = (svr_m.predict(x1))\n",
    "\n",
    "\n",
    "from sklearn import metrics\n",
    "print(-metrics.mean_absolute_error((y_test), y_pred))\n"
   ]
  },
  {
   "cell_type": "code",
   "execution_count": null,
   "metadata": {},
   "outputs": [],
   "source": [
    "plt.figure( figsize=(8,6))\n",
    "plt.title('Real vs Predicted Values')\n",
    "plt.xlabel('HOUSE VALUE')\n",
    "plt.ylabel('HOUSE VALUE_predicted')\n",
    "_ = plt.plot(y_test, y_pred, '.', y_test, y_test, '-')"
   ]
  },
  {
   "cell_type": "code",
   "execution_count": null,
   "metadata": {
    "scrolled": true
   },
   "outputs": [],
   "source": [
    "err = y_test - y_pred\n",
    "\n",
    "plt.figure( figsize=(16,6))\n",
    "\n",
    "plt.subplot(1,2,1)\n",
    "plt.title(\"CV Error histogram\")\n",
    "plt.xlabel(\"Errs\")\n",
    "plt.ylabel(\"Err frequencies\")\n",
    "_ = plt.hist(err, bins=31)\n",
    "\n",
    "plt.subplot(1,2,2)\n",
    "plt.title(\"CV Error evolution\")\n",
    "plt.xlabel(\"House Value\")\n",
    "plt.ylabel(\"Errs\")\n",
    "_ = plt.plot(y_test, err, '*', y_test, 0.*y_test, '-')\n",
    "\n",
    "plt.show()"
   ]
  },
  {
   "cell_type": "markdown",
   "metadata": {},
   "source": [
    "According to the plot of errors, we can see that follow a normal distribution, and again our model fail more in greater house values"
   ]
  },
  {
   "cell_type": "markdown",
   "metadata": {},
   "source": [
    "## Final conclusions\n",
    "\n",
    "**_write here your ideas/conclusions_**\n",
    "\n",
    "* Overall impresions onyour models:\n",
    " * **Both model are good enough for the data we have. A Support Vector Machine (SVM) is a very powerful and versatile Machine Learning, and MLP is a powerful model too.\n",
    "in SVR Unfortunately, the performance can be quite sensitive to the selection of the regularisation and kernel parameters**\n",
    "\n",
    "* Which one is best and why?\n",
    " * **The best models is the SVR as we saw in the accuracy metric and in the training excution time, MLP on other hand could take too much time for training (it depend on the architecture), The harder model for tuning is SVR because has more hyperparameters**\n",
    "* Any ideas on how to improve them?\n",
    " * **To improve our models we can add some more data, but the execution time could be a limitation, mainly on SVR, also we can explore some other tecnhiques for hyperparameters search like bayesian optimization**\n",
    "  * **Make some aditional treatment of data**"
   ]
  },
  {
   "cell_type": "markdown",
   "metadata": {},
   "source": [
    "## Reference\n",
    "\n",
    "- [Class Notes and github of Prof: José Dorronsoro](https://github.com/joseDorronsoro/) \n",
    "- [oreilly hands on machine learning with scikit learn and tensorflow](http://shop.oreilly.com/product/0636920052289.do) "
   ]
  }
 ],
 "metadata": {
  "kernelspec": {
   "display_name": "Python 3",
   "language": "python",
   "name": "python3"
  },
  "language_info": {
   "codemirror_mode": {
    "name": "ipython",
    "version": 3
   },
   "file_extension": ".py",
   "mimetype": "text/x-python",
   "name": "python",
   "nbconvert_exporter": "python",
   "pygments_lexer": "ipython3",
   "version": "3.6.1"
  }
 },
 "nbformat": 4,
 "nbformat_minor": 1
}
