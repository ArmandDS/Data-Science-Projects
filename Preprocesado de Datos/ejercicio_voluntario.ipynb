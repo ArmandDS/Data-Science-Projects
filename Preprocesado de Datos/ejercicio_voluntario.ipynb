{
 "cells": [
  {
   "cell_type": "markdown",
   "metadata": {},
   "source": [
    "<h1 align=\"center\">EJERCICIO VOLUNTARIO</h1>\n",
    "<br>\n",
    "<h4 align=\"right\">Armando Olivares<h4>"
   ]
  },
  {
   "cell_type": "markdown",
   "metadata": {},
   "source": [
    "<div align=\"justify\">El fichero tweets.json contiene alrededor de 8.000 tweets. Si quieres analizar detenidamente la estructura de ellos, puedes abrir el fichero un_tweet.json, que pesa bastante menos. El objetivo fundamental de este ejercicio es que aprendas a procesar ficheros de este tipo, limpiarlos y cargarlos en tablas de R o Python, con lo que luego te servirán para entrenar modelos, realizar visualizaciones y, en definitiva, generar conocimiento.</div>"
   ]
  },
  {
   "cell_type": "markdown",
   "metadata": {},
   "source": [
    "#### Preparación  y carga de los datos"
   ]
  },
  {
   "cell_type": "code",
   "execution_count": 1,
   "metadata": {
    "collapsed": true
   },
   "outputs": [],
   "source": [
    "# Importamos los paquetes necesarios\n",
    "import pandas as pd\n",
    "import numpy as np\n",
    "import matplotlib.pyplot as plt\n",
    "from pandas.io.json import json_normalize\n",
    "import tweepy\n",
    "import json\n",
    "import seaborn as sns\n"
   ]
  },
  {
   "cell_type": "code",
   "execution_count": 2,
   "metadata": {},
   "outputs": [
    {
     "data": {
      "text/plain": [
       "{'contributors': None,\n",
       " 'coordinates': None,\n",
       " 'created_at': 'Mon Nov 14 15:00:08 +0000 2016',\n",
       " 'entities': {'hashtags': [], 'symbols': [], 'urls': [], 'user_mentions': []},\n",
       " 'favorite_count': 0,\n",
       " 'favorited': False,\n",
       " 'geo': None,\n",
       " 'id': 798178710528503809,\n",
       " 'id_str': '798178710528503809',\n",
       " 'in_reply_to_screen_name': None,\n",
       " 'in_reply_to_status_id': None,\n",
       " 'in_reply_to_status_id_str': None,\n",
       " 'in_reply_to_user_id': None,\n",
       " 'in_reply_to_user_id_str': None,\n",
       " 'is_quote_status': False,\n",
       " 'lang': 'es',\n",
       " 'metadata': {'iso_language_code': 'es', 'result_type': 'recent'},\n",
       " 'place': None,\n",
       " 'retweet_count': 0,\n",
       " 'retweeted': False,\n",
       " 'source': '<a href=\"http://twitter.com/download/android\" rel=\"nofollow\">Twitter for Android</a>',\n",
       " 'text': 'Messi se iría del Barcelona..es como imaginarme a homero irse de los simpson..sabemos q no va a pasar..',\n",
       " 'truncated': False,\n",
       " 'user': {'contributors_enabled': False,\n",
       "  'created_at': 'Sat Feb 22 08:08:33 +0000 2014',\n",
       "  'default_profile': True,\n",
       "  'default_profile_image': False,\n",
       "  'description': 'El hombre es ingeniero de su propio destino..El que quiero se construye y que quiere se destruye.',\n",
       "  'entities': {'description': {'urls': []}},\n",
       "  'favourites_count': 296,\n",
       "  'follow_request_sent': False,\n",
       "  'followers_count': 40,\n",
       "  'following': False,\n",
       "  'friends_count': 209,\n",
       "  'geo_enabled': True,\n",
       "  'has_extended_profile': True,\n",
       "  'id': 2358141273,\n",
       "  'id_str': '2358141273',\n",
       "  'is_translation_enabled': False,\n",
       "  'is_translator': False,\n",
       "  'lang': 'es',\n",
       "  'listed_count': 0,\n",
       "  'location': '',\n",
       "  'name': '@CrPirata OFFICIAL',\n",
       "  'notifications': False,\n",
       "  'profile_background_color': 'C0DEED',\n",
       "  'profile_background_image_url': 'http://abs.twimg.com/images/themes/theme1/bg.png',\n",
       "  'profile_background_image_url_https': 'https://abs.twimg.com/images/themes/theme1/bg.png',\n",
       "  'profile_background_tile': False,\n",
       "  'profile_banner_url': 'https://pbs.twimg.com/profile_banners/2358141273/1393060839',\n",
       "  'profile_image_url': 'http://pbs.twimg.com/profile_images/726135194986680324/nsula_IB_normal.jpg',\n",
       "  'profile_image_url_https': 'https://pbs.twimg.com/profile_images/726135194986680324/nsula_IB_normal.jpg',\n",
       "  'profile_link_color': '1DA1F2',\n",
       "  'profile_sidebar_border_color': 'C0DEED',\n",
       "  'profile_sidebar_fill_color': 'DDEEF6',\n",
       "  'profile_text_color': '333333',\n",
       "  'profile_use_background_image': True,\n",
       "  'protected': False,\n",
       "  'screen_name': 'crpirata',\n",
       "  'statuses_count': 377,\n",
       "  'time_zone': None,\n",
       "  'translator_type': 'none',\n",
       "  'url': None,\n",
       "  'utc_offset': None,\n",
       "  'verified': False}}"
      ]
     },
     "execution_count": 2,
     "metadata": {},
     "output_type": "execute_result"
    }
   ],
   "source": [
    "# Leemos el set de datos\n",
    "with open(\"tweets.json\", \"r\",  encoding='utf-8') as file:\n",
    "    data = json.load(file)\n",
    "(data[0])\n"
   ]
  },
  {
   "cell_type": "markdown",
   "metadata": {},
   "source": [
    "\n",
    "Después de haber leído nuestros datos correctamente es hora de limpiarlos, ordenarlos y colocarlos en un formato más estructurado, para ello normalizamos los tweets a un dataframe valiéndonos de la función _json_normalize de pandas."
   ]
  },
  {
   "cell_type": "code",
   "execution_count": 3,
   "metadata": {},
   "outputs": [
    {
     "data": {
      "text/plain": [
       "(7956, 174)"
      ]
     },
     "execution_count": 3,
     "metadata": {},
     "output_type": "execute_result"
    }
   ],
   "source": [
    "tweets_df= json_normalize(data)\n",
    "tweets_df.shape"
   ]
  },
  {
   "cell_type": "markdown",
   "metadata": {},
   "source": [
    "Como se observa se nos ha creado un dataframe de tamaño **7956 x 174**, es decir 7956 tweets "
   ]
  },
  {
   "cell_type": "code",
   "execution_count": 4,
   "metadata": {},
   "outputs": [
    {
     "data": {
      "text/html": [
       "<div>\n",
       "<style>\n",
       "    .dataframe thead tr:only-child th {\n",
       "        text-align: right;\n",
       "    }\n",
       "\n",
       "    .dataframe thead th {\n",
       "        text-align: left;\n",
       "    }\n",
       "\n",
       "    .dataframe tbody tr th {\n",
       "        vertical-align: top;\n",
       "    }\n",
       "</style>\n",
       "<table border=\"1\" class=\"dataframe\">\n",
       "  <thead>\n",
       "    <tr style=\"text-align: right;\">\n",
       "      <th></th>\n",
       "      <th>contributors</th>\n",
       "      <th>coordinates</th>\n",
       "      <th>coordinates.coordinates</th>\n",
       "      <th>coordinates.type</th>\n",
       "      <th>created_at</th>\n",
       "      <th>entities.hashtags</th>\n",
       "      <th>entities.media</th>\n",
       "      <th>entities.symbols</th>\n",
       "      <th>entities.urls</th>\n",
       "      <th>entities.user_mentions</th>\n",
       "      <th>...</th>\n",
       "      <th>user.profile_text_color</th>\n",
       "      <th>user.profile_use_background_image</th>\n",
       "      <th>user.protected</th>\n",
       "      <th>user.screen_name</th>\n",
       "      <th>user.statuses_count</th>\n",
       "      <th>user.time_zone</th>\n",
       "      <th>user.translator_type</th>\n",
       "      <th>user.url</th>\n",
       "      <th>user.utc_offset</th>\n",
       "      <th>user.verified</th>\n",
       "    </tr>\n",
       "  </thead>\n",
       "  <tbody>\n",
       "    <tr>\n",
       "      <th>0</th>\n",
       "      <td>None</td>\n",
       "      <td>NaN</td>\n",
       "      <td>NaN</td>\n",
       "      <td>NaN</td>\n",
       "      <td>Mon Nov 14 15:00:08 +0000 2016</td>\n",
       "      <td>[]</td>\n",
       "      <td>NaN</td>\n",
       "      <td>[]</td>\n",
       "      <td>[]</td>\n",
       "      <td>[]</td>\n",
       "      <td>...</td>\n",
       "      <td>333333</td>\n",
       "      <td>True</td>\n",
       "      <td>False</td>\n",
       "      <td>crpirata</td>\n",
       "      <td>377</td>\n",
       "      <td>None</td>\n",
       "      <td>none</td>\n",
       "      <td>None</td>\n",
       "      <td>NaN</td>\n",
       "      <td>False</td>\n",
       "    </tr>\n",
       "    <tr>\n",
       "      <th>1</th>\n",
       "      <td>None</td>\n",
       "      <td>NaN</td>\n",
       "      <td>NaN</td>\n",
       "      <td>NaN</td>\n",
       "      <td>Mon Nov 14 15:00:04 +0000 2016</td>\n",
       "      <td>[{'indices': [0, 13], 'text': 'RoadToRussia'}]</td>\n",
       "      <td>NaN</td>\n",
       "      <td>[]</td>\n",
       "      <td>[{'url': 'https://t.co/H598pGjnyo', 'indices':...</td>\n",
       "      <td>[]</td>\n",
       "      <td>...</td>\n",
       "      <td>333333</td>\n",
       "      <td>True</td>\n",
       "      <td>False</td>\n",
       "      <td>SportsbookBTC</td>\n",
       "      <td>784979</td>\n",
       "      <td>Eastern Time (US &amp; Canada)</td>\n",
       "      <td>none</td>\n",
       "      <td>https://t.co/GmHOwgb9uu</td>\n",
       "      <td>-18000.0</td>\n",
       "      <td>False</td>\n",
       "    </tr>\n",
       "    <tr>\n",
       "      <th>2</th>\n",
       "      <td>None</td>\n",
       "      <td>NaN</td>\n",
       "      <td>NaN</td>\n",
       "      <td>NaN</td>\n",
       "      <td>Mon Nov 14 15:00:04 +0000 2016</td>\n",
       "      <td>[]</td>\n",
       "      <td>NaN</td>\n",
       "      <td>[]</td>\n",
       "      <td>[]</td>\n",
       "      <td>[{'id': 19343904, 'indices': [0, 6], 'id_str':...</td>\n",
       "      <td>...</td>\n",
       "      <td>333333</td>\n",
       "      <td>True</td>\n",
       "      <td>False</td>\n",
       "      <td>Ovrebo2009</td>\n",
       "      <td>768</td>\n",
       "      <td>Pacific Time (US &amp; Canada)</td>\n",
       "      <td>none</td>\n",
       "      <td>https://t.co/srNljP4B8u</td>\n",
       "      <td>-28800.0</td>\n",
       "      <td>False</td>\n",
       "    </tr>\n",
       "    <tr>\n",
       "      <th>3</th>\n",
       "      <td>None</td>\n",
       "      <td>NaN</td>\n",
       "      <td>NaN</td>\n",
       "      <td>NaN</td>\n",
       "      <td>Mon Nov 14 15:00:03 +0000 2016</td>\n",
       "      <td>[]</td>\n",
       "      <td>NaN</td>\n",
       "      <td>[]</td>\n",
       "      <td>[{'url': 'https://t.co/JfD4pPJbjv', 'indices':...</td>\n",
       "      <td>[]</td>\n",
       "      <td>...</td>\n",
       "      <td>333333</td>\n",
       "      <td>True</td>\n",
       "      <td>False</td>\n",
       "      <td>BanfieldPro</td>\n",
       "      <td>1567</td>\n",
       "      <td>None</td>\n",
       "      <td>none</td>\n",
       "      <td>None</td>\n",
       "      <td>NaN</td>\n",
       "      <td>False</td>\n",
       "    </tr>\n",
       "    <tr>\n",
       "      <th>4</th>\n",
       "      <td>None</td>\n",
       "      <td>NaN</td>\n",
       "      <td>NaN</td>\n",
       "      <td>NaN</td>\n",
       "      <td>Mon Nov 14 15:00:02 +0000 2016</td>\n",
       "      <td>[]</td>\n",
       "      <td>[{'expanded_url': 'https://twitter.com/Caracol...</td>\n",
       "      <td>[]</td>\n",
       "      <td>[{'url': 'https://t.co/kFUCWl9PIc', 'indices':...</td>\n",
       "      <td>[{'id': 44409004, 'indices': [47, 55], 'id_str...</td>\n",
       "      <td>...</td>\n",
       "      <td>B5B1B5</td>\n",
       "      <td>True</td>\n",
       "      <td>False</td>\n",
       "      <td>CaracolTV</td>\n",
       "      <td>203285</td>\n",
       "      <td>Bogota</td>\n",
       "      <td>none</td>\n",
       "      <td>http://t.co/zLbKMNrS10</td>\n",
       "      <td>-18000.0</td>\n",
       "      <td>True</td>\n",
       "    </tr>\n",
       "  </tbody>\n",
       "</table>\n",
       "<p>5 rows × 174 columns</p>\n",
       "</div>"
      ],
      "text/plain": [
       "  contributors  coordinates coordinates.coordinates coordinates.type  \\\n",
       "0         None          NaN                     NaN              NaN   \n",
       "1         None          NaN                     NaN              NaN   \n",
       "2         None          NaN                     NaN              NaN   \n",
       "3         None          NaN                     NaN              NaN   \n",
       "4         None          NaN                     NaN              NaN   \n",
       "\n",
       "                       created_at  \\\n",
       "0  Mon Nov 14 15:00:08 +0000 2016   \n",
       "1  Mon Nov 14 15:00:04 +0000 2016   \n",
       "2  Mon Nov 14 15:00:04 +0000 2016   \n",
       "3  Mon Nov 14 15:00:03 +0000 2016   \n",
       "4  Mon Nov 14 15:00:02 +0000 2016   \n",
       "\n",
       "                                entities.hashtags  \\\n",
       "0                                              []   \n",
       "1  [{'indices': [0, 13], 'text': 'RoadToRussia'}]   \n",
       "2                                              []   \n",
       "3                                              []   \n",
       "4                                              []   \n",
       "\n",
       "                                      entities.media entities.symbols  \\\n",
       "0                                                NaN               []   \n",
       "1                                                NaN               []   \n",
       "2                                                NaN               []   \n",
       "3                                                NaN               []   \n",
       "4  [{'expanded_url': 'https://twitter.com/Caracol...               []   \n",
       "\n",
       "                                       entities.urls  \\\n",
       "0                                                 []   \n",
       "1  [{'url': 'https://t.co/H598pGjnyo', 'indices':...   \n",
       "2                                                 []   \n",
       "3  [{'url': 'https://t.co/JfD4pPJbjv', 'indices':...   \n",
       "4  [{'url': 'https://t.co/kFUCWl9PIc', 'indices':...   \n",
       "\n",
       "                              entities.user_mentions      ...        \\\n",
       "0                                                 []      ...         \n",
       "1                                                 []      ...         \n",
       "2  [{'id': 19343904, 'indices': [0, 6], 'id_str':...      ...         \n",
       "3                                                 []      ...         \n",
       "4  [{'id': 44409004, 'indices': [47, 55], 'id_str...      ...         \n",
       "\n",
       "  user.profile_text_color  user.profile_use_background_image  user.protected  \\\n",
       "0                  333333                               True           False   \n",
       "1                  333333                               True           False   \n",
       "2                  333333                               True           False   \n",
       "3                  333333                               True           False   \n",
       "4                  B5B1B5                               True           False   \n",
       "\n",
       "   user.screen_name user.statuses_count              user.time_zone  \\\n",
       "0          crpirata                 377                        None   \n",
       "1     SportsbookBTC              784979  Eastern Time (US & Canada)   \n",
       "2        Ovrebo2009                 768  Pacific Time (US & Canada)   \n",
       "3       BanfieldPro                1567                        None   \n",
       "4         CaracolTV              203285                      Bogota   \n",
       "\n",
       "   user.translator_type                 user.url user.utc_offset  \\\n",
       "0                  none                     None             NaN   \n",
       "1                  none  https://t.co/GmHOwgb9uu        -18000.0   \n",
       "2                  none  https://t.co/srNljP4B8u        -28800.0   \n",
       "3                  none                     None             NaN   \n",
       "4                  none   http://t.co/zLbKMNrS10        -18000.0   \n",
       "\n",
       "   user.verified  \n",
       "0          False  \n",
       "1          False  \n",
       "2          False  \n",
       "3          False  \n",
       "4           True  \n",
       "\n",
       "[5 rows x 174 columns]"
      ]
     },
     "execution_count": 4,
     "metadata": {},
     "output_type": "execute_result"
    }
   ],
   "source": [
    "tweets_df.head()"
   ]
  },
  {
   "cell_type": "markdown",
   "metadata": {},
   "source": [
    "###  ¿Cuántos tweets hay exactamente? "
   ]
  },
  {
   "cell_type": "markdown",
   "metadata": {},
   "source": [
    "Hay **7956 tweets**"
   ]
  },
  {
   "cell_type": "markdown",
   "metadata": {},
   "source": [
    " ### ¿Cuántos de ellos han sido retuiteados? "
   ]
  },
  {
   "cell_type": "code",
   "execution_count": 5,
   "metadata": {},
   "outputs": [
    {
     "data": {
      "text/plain": [
       "1238"
      ]
     },
     "execution_count": 5,
     "metadata": {},
     "output_type": "execute_result"
    }
   ],
   "source": [
    "sum(tweets_df[\"retweet_count\"]>0)"
   ]
  },
  {
   "cell_type": "markdown",
   "metadata": {},
   "source": [
    "De total de tweets tenemos que **1238** han recibido retweets"
   ]
  },
  {
   "cell_type": "markdown",
   "metadata": {},
   "source": [
    "### ¿Cuál es el número de retweets medio que recibe cada tweet? "
   ]
  },
  {
   "cell_type": "code",
   "execution_count": 6,
   "metadata": {},
   "outputs": [
    {
     "data": {
      "text/plain": [
       "11.9281098546042"
      ]
     },
     "execution_count": 6,
     "metadata": {},
     "output_type": "execute_result"
    }
   ],
   "source": [
    "sum(tweets_df[\"retweet_count\"])/sum(tweets_df[\"retweet_count\"]>0)"
   ]
  },
  {
   "cell_type": "markdown",
   "metadata": {},
   "source": [
    "Notamos que cada tweet de los retuiteados **recibe** en promedio **11~12 retweets**."
   ]
  },
  {
   "cell_type": "markdown",
   "metadata": {},
   "source": [
    "#### ¿Cuántos usuarios únicos aparecen en el fichero?"
   ]
  },
  {
   "cell_type": "code",
   "execution_count": 7,
   "metadata": {},
   "outputs": [
    {
     "data": {
      "text/plain": [
       "5446"
      ]
     },
     "execution_count": 7,
     "metadata": {},
     "output_type": "execute_result"
    }
   ],
   "source": [
    "len(tweets_df[\"user.screen_name\"].unique())\n"
   ]
  },
  {
   "cell_type": "markdown",
   "metadata": {},
   "source": [
    "En nuestro archivo tenemos **5446** usuarios unicos, esto según sus *usernames*."
   ]
  },
  {
   "cell_type": "markdown",
   "metadata": {},
   "source": [
    "### Hay teorías según las que la viralidad de un tweet no depende tanto de lo que es estrictamente su contenido sino más bien de parámetros de forma: longitud; número de hashtags que contienen; inclusión de fotos, vídeos u otro tipo de links; si son respues- tas a otros tweets o no. . . Trata de confirmar o desmentir este hecho sobre el fichero tweets.json mediante algún tipo de análisis"
   ]
  },
  {
   "cell_type": "markdown",
   "metadata": {},
   "source": [
    "Haremos un análisis de Cálculo de descriptivos por clases, tomando por ejemplo que los tweets contengan algun tipo de contenido multimedia:"
   ]
  },
  {
   "cell_type": "code",
   "execution_count": 8,
   "metadata": {},
   "outputs": [
    {
     "data": {
      "text/plain": [
       "231"
      ]
     },
     "execution_count": 8,
     "metadata": {},
     "output_type": "execute_result"
    }
   ],
   "source": [
    "#data[21]\n",
    "#(tweets_df[ \"text\"]).str.contains(\"@\")\n",
    "tweets_df[\"user.followers_count\"][2]"
   ]
  },
  {
   "cell_type": "code",
   "execution_count": 9,
   "metadata": {},
   "outputs": [
    {
     "data": {
      "text/plain": [
       "6865"
      ]
     },
     "execution_count": 9,
     "metadata": {},
     "output_type": "execute_result"
    }
   ],
   "source": [
    "type(tweets_df[\"entities.media\"][1])\n",
    "sum((tweets_df[\"entities.media\"]).isnull())"
   ]
  },
  {
   "cell_type": "code",
   "execution_count": 10,
   "metadata": {},
   "outputs": [
    {
     "data": {
      "image/png": "[encoded data removed]",
      "text/plain": [
       "<matplotlib.figure.Figure at 0x2b6694f08d0>"
      ]
     },
     "metadata": {},
     "output_type": "display_data"
    }
   ],
   "source": [
    "media_tw = tweets_df.loc[((tweets_df[\"entities.media\"]).isnull() != True) & ((tweets_df[\"retweet_count\"]) >0), [ \"retweet_count\"]]\n",
    "media_tw[\"media\"] = \"Media\"\n",
    "no_media_tw = tweets_df.loc[((tweets_df[\"entities.media\"]).isnull()) & ((tweets_df[\"retweet_count\"]) >0), [ \"retweet_count\"]]\n",
    "no_media_tw[\"media\"] = \"No Media\"\n",
    "sns.set_style(\"ticks\")\n",
    "ax = sns.barplot(  y = \"retweet_count\", x= \"media\", data=pd.concat([media_tw, no_media_tw])  )\n",
    "plt.show()"
   ]
  },
  {
   "cell_type": "markdown",
   "metadata": {},
   "source": [
    "Se nota que en promedio los tweets que tienen incluyen fotos y/o contenido multimedia reciben en promedio casi 20 Retwets, mientras los tweets sin contenido multimedia solo logran casi la mitad de Retweets."
   ]
  },
  {
   "cell_type": "markdown",
   "metadata": {},
   "source": [
    "Ahora los Tweets que comparten algún  link en su texto:"
   ]
  },
  {
   "cell_type": "code",
   "execution_count": 11,
   "metadata": {},
   "outputs": [
    {
     "data": {
      "image/png": "[encoded data removed]",
      "text/plain": [
       "<matplotlib.figure.Figure at 0x2b66955f9e8>"
      ]
     },
     "metadata": {},
     "output_type": "display_data"
    }
   ],
   "source": [
    "links_tw = tweets_df.loc[(tweets_df[ \"entities.urls\"]).str.len() != 0 & ((tweets_df[\"retweet_count\"]) >0), [ \"retweet_count\"]]\n",
    "links_tw[\"links\"] = \"links\"\n",
    "no_links_tw = tweets_df.loc[(tweets_df[ \"entities.urls\"]).str.len() == 0 & ((tweets_df[\"retweet_count\"]) >0), [ \"retweet_count\"]]\n",
    "no_links_tw[\"links\"] = \"Sin links\"\n",
    "sns.set_style(\"ticks\")\n",
    "ax = sns.barplot(y = \"retweet_count\", x= \"links\", data=pd.concat([links_tw, no_links_tw]) )\n",
    "plt.show()"
   ]
  },
  {
   "cell_type": "markdown",
   "metadata": {},
   "source": [
    "Parece no haber gran diferencia entre tuitear texto cuyo contenido contenga o no links o enlaces y recibir o no RT's."
   ]
  },
  {
   "cell_type": "markdown",
   "metadata": {},
   "source": [
    "Comparemos ahora la cantidad de HT en cada tweet, lo haremos con los tweet que contengan más de 1 HT con los que tengan 1 o ninguno."
   ]
  },
  {
   "cell_type": "code",
   "execution_count": 12,
   "metadata": {},
   "outputs": [
    {
     "data": {
      "image/png": "[encoded data removed]",
      "text/plain": [
       "<matplotlib.figure.Figure at 0x2b669d59cf8>"
      ]
     },
     "metadata": {},
     "output_type": "display_data"
    }
   ],
   "source": [
    "ht_tw = tweets_df.loc[(tweets_df[ \"entities.hashtags\"]).str.len() >1 & ((tweets_df[\"retweet_count\"]) >0), [ \"retweet_count\"]]\n",
    "ht_tw[\"HT\"] = \"HT\"\n",
    "no_ht_tw = tweets_df.loc[(tweets_df[ \"entities.hashtags\"]).str.len() <=1 & ((tweets_df[\"retweet_count\"]) >0), [ \"retweet_count\"]]\n",
    "no_ht_tw[\"HT\"] = \"No HT\"\n",
    "sns.set_style(\"ticks\")\n",
    "ax = sns.barplot(y = \"retweet_count\", x= \"HT\", data=pd.concat([ht_tw, no_ht_tw]) )\n",
    "plt.show()"
   ]
  },
  {
   "cell_type": "markdown",
   "metadata": {},
   "source": [
    "Parece ser que los tweets que contienen **1 ó ningun HT reciben más retweets**."
   ]
  },
  {
   "cell_type": "markdown",
   "metadata": {},
   "source": [
    "Por último revisemos ahora si el cuerpo del tweet contiene alguna mención o referencia a otros usuario (tuitero)"
   ]
  },
  {
   "cell_type": "code",
   "execution_count": 13,
   "metadata": {},
   "outputs": [
    {
     "data": {
      "image/png": "[encoded data removed]",
      "text/plain": [
       "<matplotlib.figure.Figure at 0x2b66a05e9e8>"
      ]
     },
     "metadata": {},
     "output_type": "display_data"
    }
   ],
   "source": [
    "user_tw = tweets_df.loc[(tweets_df[ \"text\"]).str.contains(\"@\") & ((tweets_df[\"retweet_count\"]) >0), [ \"retweet_count\"]]\n",
    "user_tw[\"ref\"] = \"Menciona a otro Usuario\"\n",
    "no_user_tw = tweets_df.loc[((tweets_df[ \"text\"]).str.contains(\"@\") !=True) & ((tweets_df[\"retweet_count\"]) >0), [ \"retweet_count\"]]\n",
    "no_user_tw[\"ref\"] = \"No Menciona a otro Usuario\"\n",
    "sns.set_style(\"ticks\")\n",
    "ax = sns.barplot(y = \"retweet_count\", x= \"ref\", data= pd.concat([user_tw, no_user_tw]) )\n",
    "plt.show()"
   ]
  },
  {
   "cell_type": "markdown",
   "metadata": {},
   "source": [
    "Como se observa si el twitter no menciona a otro usuario puede recibir en promedio 15 retweets, mientras que si menciona a otro usuario ó es parte del alguna *conversación* solo recibirá en promedio 5 RT's."
   ]
  },
  {
   "cell_type": "markdown",
   "metadata": {},
   "source": [
    "Por ultimo observaremos  la relación *seguidores* vs *Retweets obtenidos*, en principio se debería esperar una relación lineal fuerte y positiva. veamos:"
   ]
  },
  {
   "cell_type": "code",
   "execution_count": 14,
   "metadata": {},
   "outputs": [
    {
     "data": {
      "image/png": "[encoded data removed]",
      "text/plain": [
       "<matplotlib.figure.Figure at 0x2b6692d2eb8>"
      ]
     },
     "metadata": {},
     "output_type": "display_data"
    }
   ],
   "source": [
    "ax = sns.regplot(x=tweets_df[\"user.followers_count\"],y=tweets_df[\"retweet_count\"])\n",
    "plt.show()"
   ]
  },
  {
   "cell_type": "markdown",
   "metadata": {},
   "source": [
    "Según el gráfico todo indica que a mayor cantidad de seguidores más RT's sin embargo se observan alguno valores atípicos que con poco seguidores obtuvieron muchisimos RT's."
   ]
  },
  {
   "cell_type": "code",
   "execution_count": null,
   "metadata": {
    "collapsed": true
   },
   "outputs": [],
   "source": []
  },
  {
   "cell_type": "markdown",
   "metadata": {
    "collapsed": true
   },
   "source": [
    "<br>\n",
    "#### En resumen:\n",
    " -  La **viralidad** es un fenómeno complicado de estudiar/predecir, sin embargo pudimos obtener algunas ideas interesantes, por ejemplo los usuarios tienden a compartir ó retuitear más a los tweets con contenido multimedia agregado como imágenes, videos, gif, etc y a los tweets con pocos o ningún hashtags.\n",
    " - Algo interesante es que observamos que cuando un usuario tiene muchos seguidores obtiene más Retweets(como se puede esperar) pero no al nivel proporcional a su cantidad de seguidores, la cantidad de retweets ** no parece incrementarse** en gran medida **con la cantidad de seguidores**.\n",
    " - Tal vez si hacemos análisis de **grafos** ó **wordcloud** obtengamos mejores conclusiones, pero eso será para otra oportunidad :)"
   ]
  }
 ],
 "metadata": {
  "anaconda-cloud": {},
  "kernelspec": {
   "display_name": "Python 3",
   "language": "python",
   "name": "python3"
  },
  "language_info": {
   "codemirror_mode": {
    "name": "ipython",
    "version": 3
   },
   "file_extension": ".py",
   "mimetype": "text/x-python",
   "name": "python",
   "nbconvert_exporter": "python",
   "pygments_lexer": "ipython3",
   "version": "3.6.1"
  }
 },
 "nbformat": 4,
 "nbformat_minor": 1
}
